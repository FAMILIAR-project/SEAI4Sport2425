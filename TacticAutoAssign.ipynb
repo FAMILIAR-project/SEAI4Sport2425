{
  "nbformat": 4,
  "nbformat_minor": 0,
  "metadata": {
    "colab": {
      "provenance": [],
      "authorship_tag": "ABX9TyPuRn/BJ4nLitibrjSn56sF",
      "include_colab_link": true
    },
    "kernelspec": {
      "name": "python3",
      "display_name": "Python 3"
    },
    "language_info": {
      "name": "python"
    }
  },
  "cells": [
    {
      "cell_type": "markdown",
      "metadata": {
        "id": "view-in-github",
        "colab_type": "text"
      },
      "source": [
        "<a href=\"https://colab.research.google.com/github/FAMILIAR-project/SEAI4Sport2425/blob/main/TacticAutoAssign.ipynb\" target=\"_parent\"><img src=\"https://colab.research.google.com/assets/colab-badge.svg\" alt=\"Open In Colab\"/></a>"
      ]
    },
    {
      "cell_type": "code",
      "execution_count": 1,
      "metadata": {
        "colab": {
          "base_uri": "https://localhost:8080/"
        },
        "id": "d1cZrvk8Xfyy",
        "outputId": "f48da407-f904-4e9c-aa40-319db105232a"
      },
      "outputs": [
        {
          "output_type": "stream",
          "name": "stdout",
          "text": [
            "Assignments:\n",
            "GK: Mike MAIGNAN (weight = 1.0)\n",
            "ARG: Lucas DIGNE (weight = 1.0)\n",
            "ARD: Wesley FOFANA (weight = 1.0)\n",
            "DCG: Théo HERNANDEZ (weight = 1.0)\n",
            "DCD: Ibrahima KONATE (weight = 1.0)\n",
            "MDEF: Eduardo CAMAVINGA (weight = 1.0)\n",
            "M8: Matteo GUENDOUZI (weight = 1.0)\n",
            "ATTG: Randal KOLO MUANI (weight = 0.5)\n",
            "MG: N’Golo KANTE (weight = 1.0)\n",
            "MD: Manu KONE (weight = 1.0)\n",
            "ATTD: Christopher NKUNKU (weight = 1.0)\n"
          ]
        }
      ],
      "source": [
        "import numpy as np\n",
        "from scipy.optimize import linear_sum_assignment\n",
        "\n",
        "# Define the tactic we need to fill\n",
        "tactic = [\"GK\", \"ARG\", \"ARD\", \"DCG\", \"DCD\", \"MDEF\", \"M8\", \"ATTG\", \"MG\", \"MD\", \"ATTD\"]\n",
        "\n",
        "# Embedded player data\n",
        "players_data = [\n",
        "    {\"Name\": \"Mike MAIGNAN\", \"Club\": \"AC MILAN\", \"Positions\": \"GK\", \"Weight\": 1.0},\n",
        "    {\"Name\": \"Lucas CHEVALIER\", \"Club\": \"LOSC LILLE\", \"Positions\": \"GK\", \"Weight\": 0.5},\n",
        "    {\"Name\": \"Brice SAMBA\", \"Club\": \"RC LENS\", \"Positions\": \"GK\", \"Weight\": 0.5},\n",
        "    {\"Name\": \"Jonathan CLAUSS\", \"Club\": \"OGC NICE\", \"Positions\": \"ARG|ARD|DCG|DCD\", \"Weight\": 0.5},\n",
        "    {\"Name\": \"Lucas DIGNE\", \"Club\": \"ASTON VILLA FC\", \"Positions\": \"ARG|ARD|DCG|DCD\", \"Weight\": 1.0},\n",
        "    {\"Name\": \"Wesley FOFANA\", \"Club\": \"CHELSEA FC\", \"Positions\": \"ARG|ARD|DCG|DCD\", \"Weight\": 1.0},\n",
        "    {\"Name\": \"Théo HERNANDEZ\", \"Club\": \"AC MILAN\", \"Positions\": \"ARG|ARD|DCG|DCD\", \"Weight\": 1.0},\n",
        "    {\"Name\": \"Ibrahima KONATE\", \"Club\": \"LIVERPOOL FC\", \"Positions\": \"ARG|ARD|DCG|DCD\", \"Weight\": 1.0},\n",
        "    {\"Name\": \"Jules KOUNDE\", \"Club\": \"FC BARCELONE\", \"Positions\": \"ARG|ARD|DCG|DCD\", \"Weight\": 1.0},\n",
        "    {\"Name\": \"William SALIBA\", \"Club\": \"ARSENAL FC\", \"Positions\": \"ARG|ARD|DCG|DCD\", \"Weight\": 1.0},\n",
        "    {\"Name\": \"Dayot UPAMECANO\", \"Club\": \"FC BAYERN MUNICH\", \"Positions\": \"ARG|ARD|DCG|DCD\", \"Weight\": 1.0},\n",
        "    {\"Name\": \"Eduardo CAMAVINGA\", \"Club\": \"REAL MADRID CF\", \"Positions\": \"MDEF|M8|M10|MG|MD\", \"Weight\": 1.0},\n",
        "    {\"Name\": \"Matteo GUENDOUZI\", \"Club\": \"SS LAZIO\", \"Positions\": \"MDEF|M8|M10|MG|MD\", \"Weight\": 1.0},\n",
        "    {\"Name\": \"N’Golo KANTE\", \"Club\": \"AL ITTIHAD CLUB\", \"Positions\": \"MDEF|M8|M10|MG|MD\", \"Weight\": 1.0},\n",
        "    {\"Name\": \"Manu KONE\", \"Club\": \"AS ROMA\", \"Positions\": \"MDEF|M8|M10|MG|MD\", \"Weight\": 1.0},\n",
        "    {\"Name\": \"Adrien RABIOT\", \"Club\": \"OLYMPIQUE DE MARSEILLE\", \"Positions\": \"MDEF|M8|M10|MG|MD\", \"Weight\": 0.5},\n",
        "    {\"Name\": \"Warren ZAIRE-EMERY\", \"Club\": \"PARIS-SG\", \"Positions\": \"MDEF|M8|M10|MG|MD\", \"Weight\": 0.4},\n",
        "    {\"Name\": \"Bradley BARCOLA\", \"Club\": \"PARIS SG\", \"Positions\": \"ATTD\", \"Weight\": 0.5},\n",
        "    {\"Name\": \"Ousmane DEMBELE\", \"Club\": \"PARIS SG\", \"Positions\": \"ATTD\", \"Weight\": 0.5},\n",
        "    {\"Name\": \"Randal KOLO MUANI\", \"Club\": \"PARIS SG\", \"Positions\": \"ATTD|ATTG\", \"Weight\": 0.5},\n",
        "    {\"Name\": \"Christopher NKUNKU\", \"Club\": \"CHELSEA FC\", \"Positions\": \"ATTD\", \"Weight\": 1.0},\n",
        "    {\"Name\": \"Michael OLISE\", \"Club\": \"FC BAYERN MUNICH\", \"Positions\": \"ATTD\", \"Weight\": 1.0},\n",
        "    {\"Name\": \"Marcus THURAM\", \"Club\": \"INTER MILAN\", \"Positions\": \"ATTD\", \"Weight\": 1.0}\n",
        "]\n",
        "\n",
        "\n",
        "# Convert embedded data to required structures\n",
        "players = [player['Name'] for player in players_data]\n",
        "clubs = {player['Name']: player['Club'] for player in players_data}\n",
        "positions_dict = {player['Name']: player['Positions'].split('|') for player in players_data}\n",
        "weights = {player['Name']: player['Weight'] for player in players_data}\n",
        "\n",
        "# Build cost matrix\n",
        "num_positions = len(tactic)\n",
        "num_players = len(players)\n",
        "cost_matrix = np.full((num_positions, num_players), np.inf)\n",
        "\n",
        "for i, pos in enumerate(tactic):\n",
        "    for j, p in enumerate(players):\n",
        "        if pos in positions_dict[p]:\n",
        "            w = weights[p]\n",
        "            # cost = -weight since Hungarian algorithm minimizes cost\n",
        "            cost_matrix[i, j] = -w\n",
        "\n",
        "# Solve the assignment problem\n",
        "row_ind, col_ind = linear_sum_assignment(cost_matrix)\n",
        "\n",
        "assignments = {}\n",
        "for pos_idx, player_idx in zip(row_ind, col_ind):\n",
        "    if cost_matrix[pos_idx, player_idx] != np.inf:\n",
        "        pos_name = tactic[pos_idx]\n",
        "        player_name = players[player_idx]\n",
        "        assignments[pos_name] = player_name\n",
        "\n",
        "# Output the assignments\n",
        "print(\"Assignments:\")\n",
        "for pos in tactic:\n",
        "    if pos in assignments:\n",
        "        p = assignments[pos]\n",
        "        print(f\"{pos}: {p} (weight = {weights[p]})\")\n",
        "    else:\n",
        "        print(f\"{pos}: Not assigned\")\n"
      ]
    },
    {
      "cell_type": "code",
      "source": [],
      "metadata": {
        "id": "6YiNeJK5toRT"
      },
      "execution_count": null,
      "outputs": []
    },
    {
      "cell_type": "markdown",
      "source": [
        "Pour chaque exercice ci-dessous, il est possible de modifier le code ci-dessus, de créer des nouvelles cellules avec du code ou avec des explications textuelles. Généralement, les exercices nécessitent très peu de modifications ou d'écritures de code\n",
        "\n",
        "0. Expliquer en 5 phrases ce que fait le code\n",
        "1. Modifier le code pour que Michael OLISE soit nécessairement titularisé\n",
        "2. Modifier le code pour que que Lucas DIGNE ne soit pas titularisé\n",
        "3. Modifier le code pour changer la tactique et permettre d'évoluer avec deux attaquants, un attaquant droit (ATTD), et un attaquant gauche (ATTG)\n",
        "4. Vérifier que le nombre de joueurs dans la tactique est bien égal à 11. Si ce n'est pas le cas, afficher un message d'avertissement.\n",
        "5. Modifier le code pour afficher le club des joueurs, en plus de la position\n",
        "6. Lister tous les clubs : Écrivez un code pour afficher la liste de tous les clubs uniques représentés par les joueurs.\n",
        "7. Expliquer l'impact des poids sur les assignations : Expliquez comment les poids affectent les assignations des joueurs aux positions dans le code.\n",
        "8. Faire la moyenne des poids des joueurs\n",
        "9. Calculer le poids maximum : Écrivez un code qui trouve et affiche le poids maximum parmi tous les joueurs."
      ],
      "metadata": {
        "id": "TESZh-1RqMXE"
      }
    },
    {
      "cell_type": "code",
      "source": [
        "import pandas as pd\n",
        "data = pd.read_csv('https://raw.githubusercontent.com/acherm/SEAI4Sport2425/refs/heads/main/season_matchs_Ligue_1_2020.csv')"
      ],
      "metadata": {
        "id": "FaAoIpaDtOOj"
      },
      "execution_count": 2,
      "outputs": []
    },
    {
      "cell_type": "markdown",
      "source": [
        "1. Trouver et afficher le match avec le plus grand écart de buts.\n",
        "2. Calculer le nombre moyen de buts marqués par match pour toute la saison.\n",
        "3. Détecter les matchs où un club à domicile a perdu malgré un xG supérieur à celui de l'adversaire.\n",
        "4. Visualiser la répartition des buts marqués à domicile contre ceux marqués à l'extérieur.\n",
        "5. Identifier les matches sans but marqué et afficher ces informations.\n",
        "6. Déterminer et afficher les matchs avec une grande volatilité en xG (différence entre xG à domicile et à l'extérieur supérieure à 1).\n",
        "7. On se propose d'étudier l'efficacité offensive par rapport aux attentes (xG). Analysez comment les clubs performent par rapport à leur xG (Expected Goals) à domicile et à l'extérieur. Discutez des clubs qui surpassent ou ne rencontrent pas leurs attentes en termes de buts marqués par rapport aux buts attendus, en vous appuyant sur les différences entre leurs performances à domicile et à l'extérieur.\n",
        "\n",
        "\n"
      ],
      "metadata": {
        "id": "r6onpdHmqlAT"
      }
    },
    {
      "cell_type": "code",
      "source": [],
      "metadata": {
        "id": "MROeDTi1qZzb"
      },
      "execution_count": 2,
      "outputs": []
    }
  ]
}