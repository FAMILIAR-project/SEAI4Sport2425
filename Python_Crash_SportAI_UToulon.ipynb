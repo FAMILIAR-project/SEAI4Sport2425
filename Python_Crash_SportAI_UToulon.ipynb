{
  "cells": [
    {
      "cell_type": "markdown",
      "metadata": {
        "id": "view-in-github",
        "colab_type": "text"
      },
      "source": [
        "<a href=\"https://colab.research.google.com/github/FAMILIAR-project/SEAI4Sport2425/blob/main/Python_Crash_SportAI_UToulon.ipynb\" target=\"_parent\"><img src=\"https://colab.research.google.com/assets/colab-badge.svg\" alt=\"Open In Colab\"/></a>"
      ]
    },
    {
      "cell_type": "markdown",
      "id": "0cc0a44e",
      "metadata": {
        "id": "0cc0a44e"
      },
      "source": [
        "# Introduction"
      ]
    },
    {
      "cell_type": "markdown",
      "id": "d2105ad5",
      "metadata": {
        "id": "d2105ad5"
      },
      "source": [
        "# Variables et types de données"
      ]
    },
    {
      "cell_type": "code",
      "source": [
        "# Une variable contient un joueur célèbre\n",
        "joueur = 'Antoine Dupont'\n",
        "age = 26  # âge en années\n",
        "vitesse = 9.3  # vitesse en m/s\n",
        "est_capitaine = True  # indique si le joueur est capitaine\n",
        "\n",
        "# Affichage des informations\n",
        "print(f\"Joueur: {joueur}, Âge: {age} ans, Vitesse: {vitesse} m/s, Capitaine: {est_capitaine}\")\n"
      ],
      "metadata": {
        "id": "PtTKY_GmUGbK",
        "colab": {
          "base_uri": "https://localhost:8080/"
        },
        "outputId": "700038d1-9c6e-4a6d-c12e-4e1635b1dab0"
      },
      "id": "PtTKY_GmUGbK",
      "execution_count": 15,
      "outputs": [
        {
          "output_type": "stream",
          "name": "stdout",
          "text": [
            "Joueur: Antoine Dupont, Âge: 26 ans, Vitesse: 9.3 m/s, Capitaine: True\n"
          ]
        }
      ]
    },
    {
      "cell_type": "markdown",
      "source": [
        "**Explication :**\n",
        "- Une variable est un conteneur pour une valeur, comme un nombre ou un texte.\n",
        "\n",
        "- Ici, on utilise des types différents :\n",
        "  - `str` pour le nom,\n",
        "\n",
        "  - `int` pour l'âge,\n",
        "\n",
        "  - `float` pour la vitesse,\n",
        "\n",
        "  - `bool` pour indiquer si c'est un capitaine.\n"
      ],
      "metadata": {
        "id": "O9F4gIWiUV_1"
      },
      "id": "O9F4gIWiUV_1"
    },
    {
      "cell_type": "code",
      "source": [
        "# Exemple adapté à un joueur du Rugby Club Toulonnais\n",
        "joueur = 'Cheslin Kolbe'\n",
        "age = 29\n",
        "vitesse = 10.4\n",
        "est_capitaine = False\n",
        "\n",
        "# Affichage des informations\n",
        "print(f\"Joueur: {joueur}, Âge: {age} ans, Vitesse: {vitesse} m/s, Capitaine: {est_capitaine}\")\n"
      ],
      "metadata": {
        "id": "BIgkGjU1Up8O",
        "colab": {
          "base_uri": "https://localhost:8080/"
        },
        "outputId": "d14d9904-2fb8-4a03-b944-69c636945598"
      },
      "id": "BIgkGjU1Up8O",
      "execution_count": 16,
      "outputs": [
        {
          "output_type": "stream",
          "name": "stdout",
          "text": [
            "Joueur: Cheslin Kolbe, Âge: 29 ans, Vitesse: 10.4 m/s, Capitaine: False\n"
          ]
        }
      ]
    },
    {
      "cell_type": "markdown",
      "source": [
        "Cela montre comment les données peuvent être modifiées pour représenter différents joueurs."
      ],
      "metadata": {
        "id": "Q25YwzHdUwoh"
      },
      "id": "Q25YwzHdUwoh"
    },
    {
      "cell_type": "markdown",
      "source": [
        "Voici un programme qui calcule l’énergie cinétique d’un sportif en mouvement, avec la formule :\n",
        "$$\n",
        " E_c = \\frac{1}{2} \\times m \\times v^2\n",
        "$$\n"
      ],
      "metadata": {
        "id": "NuYmuIEiU9E0"
      },
      "id": "NuYmuIEiU9E0"
    },
    {
      "cell_type": "code",
      "source": [
        "# Masse et vitesse du sportif\n",
        "masse = 80  # en kg\n",
        "vitesse = 9.5  # en m/s\n",
        "\n",
        "# Calcul de l'énergie cinétique\n",
        "energie_cinetique = 0.5 * masse * vitesse**2\n",
        "\n",
        "# Affichage du résultat\n",
        "print(f\"Énergie cinétique : {energie_cinetique} Joules\")\n"
      ],
      "metadata": {
        "id": "sgoRJIRXVLo-",
        "colab": {
          "base_uri": "https://localhost:8080/"
        },
        "outputId": "ed323722-0ee3-4196-c963-8bd3888685c5"
      },
      "id": "sgoRJIRXVLo-",
      "execution_count": 17,
      "outputs": [
        {
          "output_type": "stream",
          "name": "stdout",
          "text": [
            "Énergie cinétique : 3610.0 Joules\n"
          ]
        }
      ]
    },
    {
      "cell_type": "code",
      "source": [
        "# Saisie de la vitesse et de la masse\n",
        "masse = float(input(\"Entrez la masse (en kg) : \"))\n",
        "vitesse = float(input(\"Entrez la vitesse (en m/s) : \"))\n",
        "\n",
        "\n",
        "# Calcul de l'énergie cinétique\n",
        "energie_cinetique = 0.5 * masse * vitesse**2\n",
        "\n",
        "# Affichage du résultat\n",
        "print(f\"Énergie cinétique : {energie_cinetique} Joules\")\n"
      ],
      "metadata": {
        "id": "9WD0WzZIVuiS",
        "colab": {
          "base_uri": "https://localhost:8080/"
        },
        "outputId": "ed21bc29-5cdb-48b3-d8ba-be38f3bb5b35"
      },
      "id": "9WD0WzZIVuiS",
      "execution_count": 18,
      "outputs": [
        {
          "output_type": "stream",
          "name": "stdout",
          "text": [
            "Entrez la masse (en kg) : 80\n",
            "Entrez la vitesse (en m/s) : 10\n",
            "Énergie cinétique : 4000.0 Joules\n"
          ]
        }
      ]
    },
    {
      "cell_type": "markdown",
      "source": [
        "**Explication :**  \n",
        "- La fonction `input()` permet de saisir des données.\n",
        "\n",
        "- `float()` convertit les entrées utilisateur en nombres décimaux pour les calculs."
      ],
      "metadata": {
        "id": "DNbOe8m-WGw8"
      },
      "id": "DNbOe8m-WGw8"
    },
    {
      "cell_type": "markdown",
      "source": [
        "#### Exercice : Calculer la distance parcourue par un athlète"
      ],
      "metadata": {
        "id": "9c7lr41VViHz"
      },
      "id": "9c7lr41VViHz"
    },
    {
      "cell_type": "markdown",
      "source": [
        "créer un programme pour calculer la distance parcourue par un athlète à partir de sa vitesse et du temps, avec la formule :\n",
        "$$\n",
        " d = v \\times t\n",
        "$$\n",
        "**Consigne :**  \n",
        "1. Demandez d’entrer la vitesse `v` (en m/s) et le temps `t` (en secondes).\n",
        "\n",
        "2. Calculez la distance `d`.\n",
        "\n",
        "3. Affichez la distance parcourue."
      ],
      "metadata": {
        "id": "AYni4SDvVZof"
      },
      "id": "AYni4SDvVZof"
    },
    {
      "cell_type": "markdown",
      "id": "eeb8d6fb",
      "metadata": {
        "id": "eeb8d6fb"
      },
      "source": [
        "# Opérations mathématiques"
      ]
    },
    {
      "cell_type": "markdown",
      "source": [
        "Exemple 1 : Calculer la vitesse d’un athlète"
      ],
      "metadata": {
        "id": "vNQgqbogWSre"
      },
      "id": "vNQgqbogWSre"
    },
    {
      "cell_type": "code",
      "source": [
        "# Distance parcourue et temps écoulé\n",
        "distance = 100  # en mètres\n",
        "temps = 12.5  # en secondes\n",
        "\n",
        "# Calcul de la vitesse\n",
        "vitesse = distance / temps\n",
        "\n",
        "# Affichage de la vitesse\n",
        "print(f\"Vitesse : {vitesse} m/s\")\n"
      ],
      "metadata": {
        "id": "TdxjKiFuVK4p",
        "colab": {
          "base_uri": "https://localhost:8080/"
        },
        "outputId": "f97e9c29-88e8-41ea-9c85-3e1227b6ab2f"
      },
      "id": "TdxjKiFuVK4p",
      "execution_count": 19,
      "outputs": [
        {
          "output_type": "stream",
          "name": "stdout",
          "text": [
            "Vitesse : 8.0 m/s\n"
          ]
        }
      ]
    },
    {
      "cell_type": "markdown",
      "source": [
        "Exemple 2 : Calculer la vitesse moyenne sur plusieurs segments"
      ],
      "metadata": {
        "id": "tKdAjbAHWd7m"
      },
      "id": "tKdAjbAHWd7m"
    },
    {
      "cell_type": "code",
      "source": [
        "# Distances parcourues et temps associés\n",
        "distances = [200, 150, 100]  # en mètres\n",
        "temps = [22.5, 18.0, 12.0]  # en secondes\n",
        "\n",
        "# Calcul de la distance totale et du temps total\n",
        "distance_totale = sum(distances)\n",
        "temps_total = sum(temps)\n",
        "\n",
        "# Calcul de la vitesse moyenne\n",
        "vitesse_moyenne = distance_totale / temps_total\n",
        "\n",
        "# Affichage du résultat\n",
        "print(f\"Distance totale : {distance_totale} m\")\n",
        "print(f\"Temps total : {temps_total} s\")\n",
        "print(f\"Vitesse moyenne : {vitesse_moyenne} m/s\")\n"
      ],
      "metadata": {
        "id": "5q6xXoxWWfDk",
        "colab": {
          "base_uri": "https://localhost:8080/"
        },
        "outputId": "d30e3bda-016d-4da4-f5cb-7c342b05013c"
      },
      "id": "5q6xXoxWWfDk",
      "execution_count": 20,
      "outputs": [
        {
          "output_type": "stream",
          "name": "stdout",
          "text": [
            "Distance totale : 450 m\n",
            "Temps total : 52.5 s\n",
            "Vitesse moyenne : 8.571428571428571 m/s\n"
          ]
        }
      ]
    },
    {
      "cell_type": "markdown",
      "source": [
        "**Explication :**  \n",
        "- La fonction `sum()` additionne les valeurs d’une liste.\n",
        "\n",
        "- Ce calcul est pertinent pour des activités comme le cyclisme ou la course à pied sur des segments multiples."
      ],
      "metadata": {
        "id": "3FaG4Yx2Wi__"
      },
      "id": "3FaG4Yx2Wi__"
    },
    {
      "cell_type": "code",
      "source": [
        "# Points marqués par une équipe\n",
        "essais = 3\n",
        "transformations = 2\n",
        "\n",
        "# Calcul du score total\n",
        "score_total = (essais * 5) + (transformations * 2)\n",
        "\n",
        "# Affichage du résultat\n",
        "print(f\"Score total : {score_total} points\")\n"
      ],
      "metadata": {
        "colab": {
          "base_uri": "https://localhost:8080/"
        },
        "id": "Zedf0naKXZbu",
        "outputId": "4acccba9-8c11-4fbe-d7d1-b8a2cdb44113"
      },
      "id": "Zedf0naKXZbu",
      "execution_count": 21,
      "outputs": [
        {
          "output_type": "stream",
          "name": "stdout",
          "text": [
            "Score total : 19 points\n"
          ]
        }
      ]
    },
    {
      "cell_type": "code",
      "source": [
        "# Scores obtenus lors de 3 compétitions\n",
        "scores = [25, 30, 28]\n",
        "\n",
        "# Calcul de la moyenne\n",
        "moyenne = sum(scores) / len(scores)\n",
        "\n",
        "# Affichage de la moyenne\n",
        "print(f\"Score moyen : {moyenne}\")\n"
      ],
      "metadata": {
        "colab": {
          "base_uri": "https://localhost:8080/"
        },
        "id": "gA5xxGs_Xj3n",
        "outputId": "bcfb3b18-9bce-4964-dc16-e2624a865f99"
      },
      "id": "gA5xxGs_Xj3n",
      "execution_count": 22,
      "outputs": [
        {
          "output_type": "stream",
          "name": "stdout",
          "text": [
            "Score moyen : 27.666666666666668\n"
          ]
        }
      ]
    },
    {
      "cell_type": "markdown",
      "source": [
        "**Explication :**  \n",
        "- `sum()` additionne les éléments d’une liste.\n",
        "\n",
        "- `len()` renvoie le nombre d’éléments dans la liste.\n",
        "\n",
        "- Cette approche montre comment calculer une moyenne dans un contexte sportif."
      ],
      "metadata": {
        "id": "LNmZMz3mXngb"
      },
      "id": "LNmZMz3mXngb"
    },
    {
      "cell_type": "code",
      "source": [
        "# Calcul de l'énergie cinétique (revu pour l'apprentissage des puissances)\n",
        "masse = 70  # en kg\n",
        "vitesse = 8  # en m/s\n",
        "\n",
        "# Calcul de l'énergie cinétique\n",
        "energie_cinetique = 0.5 * masse * (vitesse ** 2)\n",
        "\n",
        "# Affichage\n",
        "print(f\"Énergie cinétique : {energie_cinetique} Joules\")\n"
      ],
      "metadata": {
        "colab": {
          "base_uri": "https://localhost:8080/"
        },
        "id": "uADO4PEAXoOx",
        "outputId": "34a93811-b3d7-434d-afb3-0bf0fe8719f0"
      },
      "id": "uADO4PEAXoOx",
      "execution_count": 23,
      "outputs": [
        {
          "output_type": "stream",
          "name": "stdout",
          "text": [
            "Énergie cinétique : 2240.0 Joules\n"
          ]
        }
      ]
    },
    {
      "cell_type": "markdown",
      "source": [
        "**Explication :**  \n",
        "- `**` calcule les puissances (ici, carré de la vitesse)."
      ],
      "metadata": {
        "id": "uDtqAsUKXq6a"
      },
      "id": "uDtqAsUKXq6a"
    },
    {
      "cell_type": "markdown",
      "source": [
        "Explications sur `sum()` et `len()`\n",
        "- La fonction `sum()` additionne tous les éléments d’une liste ou d’un autre conteneur contenant des nombres.\n",
        "\n",
        "- Exemple :"
      ],
      "metadata": {
        "id": "88cRlBfcX-yP"
      },
      "id": "88cRlBfcX-yP"
    },
    {
      "cell_type": "code",
      "source": [
        "points = [5, 10, 15]\n",
        "total = sum(points)\n",
        "print(f\"Total des points : {total}\")  # Résultat : 30\n"
      ],
      "metadata": {
        "colab": {
          "base_uri": "https://localhost:8080/"
        },
        "id": "0zPx10wSX_rF",
        "outputId": "4de1a5ab-73fc-46c2-87b0-a34e45dfd4de"
      },
      "id": "0zPx10wSX_rF",
      "execution_count": 24,
      "outputs": [
        {
          "output_type": "stream",
          "name": "stdout",
          "text": [
            "Total des points : 30\n"
          ]
        }
      ]
    },
    {
      "cell_type": "markdown",
      "source": [
        "La fonction len() renvoie le nombre d’éléments dans une liste ou un autre conteneur.\n"
      ],
      "metadata": {
        "id": "cjnySDZvYIWW"
      },
      "id": "cjnySDZvYIWW"
    },
    {
      "cell_type": "code",
      "source": [
        "equipe = ['Kolbe', 'Serin', 'Rebbadj']\n",
        "taille = len(equipe)\n",
        "print(f\"Nombre de joueurs : {taille}\")  # Résultat : 3\n"
      ],
      "metadata": {
        "colab": {
          "base_uri": "https://localhost:8080/"
        },
        "id": "vCqcYyyIYKbr",
        "outputId": "a27ca4f6-0daf-432a-9c0b-2b13d010d0dd"
      },
      "id": "vCqcYyyIYKbr",
      "execution_count": 25,
      "outputs": [
        {
          "output_type": "stream",
          "name": "stdout",
          "text": [
            "Nombre de joueurs : 3\n"
          ]
        }
      ]
    },
    {
      "cell_type": "code",
      "source": [
        "# Distances parcourues par un athlète lors de plusieurs séances\n",
        "distances = [5.2, 7.8, 10.4, 6.5]\n",
        "\n",
        "# Calcul de la distance totale et de la moyenne\n",
        "distance_totale = sum(distances)\n",
        "moyenne_distance = distance_totale / len(distances)\n",
        "\n",
        "# Affichage des résultats\n",
        "print(f\"Distance totale : {distance_totale} km\")\n",
        "print(f\"Distance moyenne par séance : {moyenne_distance} km\")\n"
      ],
      "metadata": {
        "colab": {
          "base_uri": "https://localhost:8080/"
        },
        "id": "ZKbWo6qcYSGZ",
        "outputId": "a86d53e8-1065-45d4-92d8-211f57059bd3"
      },
      "id": "ZKbWo6qcYSGZ",
      "execution_count": 26,
      "outputs": [
        {
          "output_type": "stream",
          "name": "stdout",
          "text": [
            "Distance totale : 29.9 km\n",
            "Distance moyenne par séance : 7.475 km\n"
          ]
        }
      ]
    },
    {
      "cell_type": "markdown",
      "source": [
        "#### Exercice : Calculer l’indice de masse corporelle (IMC)\n",
        "\n",
        "L’IMC est calculé avec la formule :\n",
        "$$\n",
        " IMC = \\frac{\\text{poids}}{\\text{taille}^2}\n",
        "$$\n",
        "**Consigne :**\n",
        "1. Demandez au programme de saisir le poids (en kg) et la taille (en m).\n",
        "\n",
        "2. Calculez l’IMC.\n",
        "\n",
        "3. Affichez l’IMC et indiquez si la personne est en sous-poids, poids normal ou surpoids (sans introduire de conditions pour le moment)."
      ],
      "metadata": {
        "id": "NWNhp6jTWqPV"
      },
      "id": "NWNhp6jTWqPV"
    },
    {
      "cell_type": "code",
      "source": [
        "# Saisie du poids et de la taille\n",
        "poids = float(input(\"Entrez votre poids (en kg) : \"))\n",
        "taille = float(input(\"Entrez votre taille (en mètres) : \"))\n",
        "\n",
        "# Calcul de l'IMC\n",
        "imc = poids / (taille ** 2)\n",
        "\n",
        "# Affichage du résultat\n",
        "print(f\"Votre IMC est : {imc:.2f}\")"
      ],
      "metadata": {
        "colab": {
          "base_uri": "https://localhost:8080/"
        },
        "id": "lA_55iLCWzRt",
        "outputId": "330e8a85-2cf4-40dc-bb68-e2c1e7a16b23"
      },
      "id": "lA_55iLCWzRt",
      "execution_count": 27,
      "outputs": [
        {
          "output_type": "stream",
          "name": "stdout",
          "text": [
            "Entrez votre poids (en kg) : 80\n",
            "Entrez votre taille (en mètres) : 1.80\n",
            "Votre IMC est : 24.69\n"
          ]
        }
      ]
    },
    {
      "cell_type": "markdown",
      "source": [
        "**Explication :**  \n",
        "- Les puissances (`**`) permettent de calculer des carrés ou des cubes.\n",
        "\n",
        "- Les arrondis (`:.2f`) formatent les résultats pour les rendre plus lisibles."
      ],
      "metadata": {
        "id": "cLSyCBsxXR7f"
      },
      "id": "cLSyCBsxXR7f"
    },
    {
      "cell_type": "markdown",
      "id": "21986135",
      "metadata": {
        "id": "21986135"
      },
      "source": [
        "# Opérations sur les chaînes de caractères"
      ]
    },
    {
      "cell_type": "markdown",
      "source": [
        "Exemple 1 : Manipulations simples de chaînes"
      ],
      "metadata": {
        "id": "_SlThH4JYWAL"
      },
      "id": "_SlThH4JYWAL"
    },
    {
      "cell_type": "code",
      "source": [
        "# Nom d'une équipe sportive\n",
        "nom_equipe = \"Rugby Club Toulonnais\"\n",
        "\n",
        "# Différentes manipulations\n",
        "print(f\"Nom original : {nom_equipe}\")\n",
        "print(f\"En majuscules : {nom_equipe.upper()}\")\n",
        "print(f\"En minuscules : {nom_equipe.lower()}\")\n",
        "print(f\"Longueur : {len(nom_equipe)} caractères\")\n",
        "print(f\"Remplacement : {nom_equipe.replace('Toulonnais', 'Varois')}\")\n"
      ],
      "metadata": {
        "colab": {
          "base_uri": "https://localhost:8080/"
        },
        "id": "kG-oDQdxYX2z",
        "outputId": "e0ab8fd5-de20-492c-80e9-bf4293847c47"
      },
      "id": "kG-oDQdxYX2z",
      "execution_count": 28,
      "outputs": [
        {
          "output_type": "stream",
          "name": "stdout",
          "text": [
            "Nom original : Rugby Club Toulonnais\n",
            "En majuscules : RUGBY CLUB TOULONNAIS\n",
            "En minuscules : rugby club toulonnais\n",
            "Longueur : 21 caractères\n",
            "Remplacement : Rugby Club Varois\n"
          ]
        }
      ]
    },
    {
      "cell_type": "markdown",
      "source": [
        "**Explication :**  \n",
        "- `.upper()` et `.lower()` transforment les lettres en majuscules ou minuscules.\n",
        "\n",
        "- `len()` calcule la longueur de la chaîne.\n",
        "\n",
        "- `.replace()` remplace un mot ou une lettre par un autre."
      ],
      "metadata": {
        "id": "Ahwqn4pmYc53"
      },
      "id": "Ahwqn4pmYc53"
    },
    {
      "cell_type": "markdown",
      "source": [
        "Exemple 2 : Vérification de contenu dans une chaîne"
      ],
      "metadata": {
        "id": "x05Cp1buYf84"
      },
      "id": "x05Cp1buYf84"
    },
    {
      "cell_type": "code",
      "source": [
        "# Slogan d'une équipe\n",
        "slogan = \"Allez Toulon !\"\n",
        "\n",
        "# Vérification d'une sous-chaîne\n",
        "if \"Toulon\" in slogan:\n",
        "    print(\"Le slogan mentionne Toulon.\")\n",
        "else:\n",
        "    print(\"Pas de mention de Toulon.\")\n"
      ],
      "metadata": {
        "colab": {
          "base_uri": "https://localhost:8080/"
        },
        "id": "j3mXkjXNYhLZ",
        "outputId": "314e6bd0-3546-4c02-f21a-3d5aaab67132"
      },
      "id": "j3mXkjXNYhLZ",
      "execution_count": 29,
      "outputs": [
        {
          "output_type": "stream",
          "name": "stdout",
          "text": [
            "Le slogan mentionne Toulon.\n"
          ]
        }
      ]
    },
    {
      "cell_type": "markdown",
      "source": [
        "**Explication :**  \n",
        "- L’opérateur `in` vérifie si une sous-chaîne est présente dans une autre.\n",
        "\n",
        "- Le `if` permet d’ajuster la réponse en fonction du résultat."
      ],
      "metadata": {
        "id": "JSaKEWi7YkBM"
      },
      "id": "JSaKEWi7YkBM"
    },
    {
      "cell_type": "markdown",
      "source": [
        "Personnaliser une annonce pour un match, en remplaçant automatiquement le nom des équipes.\n",
        "\n",
        "Consigne :\n",
        "\n",
        " * Fournissez une phrase avec des espaces réservés pour les noms d’équipes.\n",
        " * Demandez de remplacer les noms par des valeurs saisies par l’utilisateur."
      ],
      "metadata": {
        "id": "ka3H7geMYpp1"
      },
      "id": "ka3H7geMYpp1"
    },
    {
      "cell_type": "markdown",
      "source": [
        "Solution"
      ],
      "metadata": {
        "id": "UdTYwewqYt4p"
      },
      "id": "UdTYwewqYt4p"
    },
    {
      "cell_type": "code",
      "source": [
        "# Phrase modèle\n",
        "phrase_modele = \"Le match entre {equipe1} et {equipe2} commence bientôt !\"\n",
        "\n",
        "# Saisie des noms des équipes\n",
        "equipe1 = input(\"Entrez le nom de la première équipe : \")\n",
        "equipe2 = input(\"Entrez le nom de la deuxième équipe : \")\n",
        "\n",
        "# Remplacement dans la phrase\n",
        "phrase_personnalisee = phrase_modele.format(equipe1=equipe1, equipe2=equipe2)\n",
        "\n",
        "# Affichage\n",
        "print(phrase_personnalisee)\n"
      ],
      "metadata": {
        "colab": {
          "base_uri": "https://localhost:8080/"
        },
        "id": "FR5kn_SjY2SN",
        "outputId": "ee3ccb9e-ec21-4b1f-bbe9-173c2cf7e8d2"
      },
      "id": "FR5kn_SjY2SN",
      "execution_count": 30,
      "outputs": [
        {
          "output_type": "stream",
          "name": "stdout",
          "text": [
            "Entrez le nom de la première équipe : Toulon\n",
            "Entrez le nom de la deuxième équipe : Marseille\n",
            "Le match entre Toulon et Marseille commence bientôt !\n"
          ]
        }
      ]
    },
    {
      "cell_type": "markdown",
      "source": [
        "**Explication :**  \n",
        "- La méthode `.format()` insère les valeurs saisies dans une chaîne avec des espaces réservés (`{}`)."
      ],
      "metadata": {
        "id": "Cv4_v-3BY5tK"
      },
      "id": "Cv4_v-3BY5tK"
    },
    {
      "cell_type": "markdown",
      "source": [
        "Exemple 1 : Extraire un substring avec des indices"
      ],
      "metadata": {
        "id": "M4rxxAb6Y-2f"
      },
      "id": "M4rxxAb6Y-2f"
    },
    {
      "cell_type": "code",
      "source": [
        "# Chaîne initiale\n",
        "nom_equipe = \"Rugby Club Toulonnais\"\n",
        "\n",
        "# Extraction d'une sous-chaîne\n",
        "substring = nom_equipe[6:10]  # Caractères de l'indice 6 à 9\n",
        "print(f\"Sous-chaîne extraite : {substring}\")\n"
      ],
      "metadata": {
        "colab": {
          "base_uri": "https://localhost:8080/"
        },
        "id": "jbNBfGQ4Y_0z",
        "outputId": "6a28e11c-4abb-401a-a6d6-7df162fc9d89"
      },
      "id": "jbNBfGQ4Y_0z",
      "execution_count": 31,
      "outputs": [
        {
          "output_type": "stream",
          "name": "stdout",
          "text": [
            "Sous-chaîne extraite : Club\n"
          ]
        }
      ]
    },
    {
      "cell_type": "markdown",
      "source": [
        "**Explication :**\n",
        "- Les indices commencent à 0.\n",
        "\n",
        "- `nom_equipe[6:10]` extrait les caractères de l’indice 6 (inclus) à 10 (exclu).\n",
        "\n",
        "- Si vous ne spécifiez pas de début ou de fin, Python utilise automatiquement le début ou la fin de la chaîne."
      ],
      "metadata": {
        "id": "DGuF-VcbZBCV"
      },
      "id": "DGuF-VcbZBCV"
    },
    {
      "cell_type": "markdown",
      "source": [
        "Exemple 2 : Substrings simplifiés avec slices"
      ],
      "metadata": {
        "id": "0JOWf6OPZSAE"
      },
      "id": "0JOWf6OPZSAE"
    },
    {
      "cell_type": "code",
      "source": [
        "# Extraction depuis le début\n",
        "debut = nom_equipe[:5]  # Les 5 premiers caractères\n",
        "print(f\"Début de la chaîne : {debut}\")\n",
        "\n",
        "# Extraction jusqu'à la fin\n",
        "fin = nom_equipe[6:]  # À partir du caractère 6 jusqu'à la fin\n",
        "print(f\"Fin de la chaîne : {fin}\")\n"
      ],
      "metadata": {
        "colab": {
          "base_uri": "https://localhost:8080/"
        },
        "id": "cGgPYEUbZTCA",
        "outputId": "438a69d2-b62b-4767-ca02-e01851a10815"
      },
      "id": "cGgPYEUbZTCA",
      "execution_count": 32,
      "outputs": [
        {
          "output_type": "stream",
          "name": "stdout",
          "text": [
            "Début de la chaîne : Rugby\n",
            "Fin de la chaîne : Club Toulonnais\n"
          ]
        }
      ]
    },
    {
      "cell_type": "markdown",
      "source": [
        "**Explication :**  \n",
        "- `[:5]` signifie \"de 0 à 5 (exclu)\".\n",
        "\n",
        "- `[6:]` signifie \"de 6 jusqu’à la fin\"."
      ],
      "metadata": {
        "id": "_71rUCq-ZVUM"
      },
      "id": "_71rUCq-ZVUM"
    },
    {
      "cell_type": "markdown",
      "source": [
        "Exemple 3 : Extraction avec des pas (step)\n",
        "python\n"
      ],
      "metadata": {
        "id": "HLBIbJV_ZZRn"
      },
      "id": "HLBIbJV_ZZRn"
    },
    {
      "cell_type": "code",
      "source": [
        "# Extraction avec un pas de 2\n",
        "pas_2 = nom_equipe[::2]  # Un caractère sur deux\n",
        "print(f\"Caractères avec un pas de 2 : {pas_2}\")\n"
      ],
      "metadata": {
        "colab": {
          "base_uri": "https://localhost:8080/"
        },
        "id": "7wOgCby1Zaqo",
        "outputId": "48c1d719-9164-4e60-8435-5612651aa04b"
      },
      "id": "7wOgCby1Zaqo",
      "execution_count": 33,
      "outputs": [
        {
          "output_type": "stream",
          "name": "stdout",
          "text": [
            "Caractères avec un pas de 2 : RgyCu olnas\n"
          ]
        }
      ]
    },
    {
      "cell_type": "markdown",
      "source": [
        "**Explication :**  \n",
        "- `[::2]` signifie \"prendre un caractère sur deux dans la chaîne\".\n",
        "\n",
        "- Vous pouvez aussi utiliser un pas négatif pour inverser la chaîne (`[::-1]`)."
      ],
      "metadata": {
        "id": "MWlH9GF9Zf1s"
      },
      "id": "MWlH9GF9Zf1s"
    },
    {
      "cell_type": "markdown",
      "source": [
        "Exercice : Isoler le nom d'une ville\n",
        "\n",
        "Extraire la ville du nom complet d’une équipe.\n",
        "**Consigne :**  \n",
        "1. Fournissez une chaîne comme `\"Rugby Club Toulonnais\"`.\n",
        "\n",
        "2. Extraire uniquement `\"Toulonnais\"` à l’aide des indices."
      ],
      "metadata": {
        "id": "1wh75YBQZscL"
      },
      "id": "1wh75YBQZscL"
    },
    {
      "cell_type": "code",
      "source": [
        "# Chaîne donnée\n",
        "nom_equipe = \"Rugby Club Toulon\"\n",
        "\n",
        "# Extraction de la ville\n",
        "ville = nom_equipe[12:]  # À partir du caractère 12\n",
        "print(f\"Nom de la ville : {ville}\")\n"
      ],
      "metadata": {
        "colab": {
          "base_uri": "https://localhost:8080/"
        },
        "id": "pzvYPgeJZzR4",
        "outputId": "3fb3a274-94b4-45ee-cb22-8da1dd1dd1af"
      },
      "id": "pzvYPgeJZzR4",
      "execution_count": 34,
      "outputs": [
        {
          "output_type": "stream",
          "name": "stdout",
          "text": [
            "Nom de la ville : oulon\n"
          ]
        }
      ]
    },
    {
      "cell_type": "markdown",
      "id": "4a9aa9dd",
      "metadata": {
        "id": "4a9aa9dd"
      },
      "source": [
        "# Les listes en Python"
      ]
    },
    {
      "cell_type": "markdown",
      "source": [
        "Les listes sont des structures de données essentielles en Python qui permettent de stocker plusieurs valeurs dans un ordre spécifique."
      ],
      "metadata": {
        "id": "hKbgQjTKaHze"
      },
      "id": "hKbgQjTKaHze"
    },
    {
      "cell_type": "markdown",
      "source": [
        "Exemple 1 : Créer et accéder aux éléments d'une liste"
      ],
      "metadata": {
        "id": "TFdox0RUaB2M"
      },
      "id": "TFdox0RUaB2M"
    },
    {
      "cell_type": "code",
      "source": [
        "# Liste des joueurs d'une équipe\n",
        "equipe = [\"Kolbe\", \"Serin\", \"Rebbadj\", \"Belleau\"]\n",
        "\n",
        "# Accéder aux éléments\n",
        "print(f\"Premier joueur : {equipe[0]}\")\n",
        "print(f\"Dernier joueur : {equipe[-1]}\")\n",
        "print(f\"Les deux premiers joueurs : {equipe[:2]}\")\n"
      ],
      "metadata": {
        "colab": {
          "base_uri": "https://localhost:8080/"
        },
        "id": "ZNTeSfPmaC-c",
        "outputId": "30d939e0-79b8-4f32-854d-65173f285f76"
      },
      "id": "ZNTeSfPmaC-c",
      "execution_count": 35,
      "outputs": [
        {
          "output_type": "stream",
          "name": "stdout",
          "text": [
            "Premier joueur : Kolbe\n",
            "Dernier joueur : Belleau\n",
            "Les deux premiers joueurs : ['Kolbe', 'Serin']\n"
          ]
        }
      ]
    },
    {
      "cell_type": "markdown",
      "source": [
        "**Explication :**\n",
        "- Les indices commencent à 0.\n",
        "\n",
        "- `[-1]` accède au dernier élément.\n",
        "\n",
        "- `[:2]` extrait les deux premiers éléments."
      ],
      "metadata": {
        "id": "CQm_iCZfaK7z"
      },
      "id": "CQm_iCZfaK7z"
    },
    {
      "cell_type": "markdown",
      "source": [
        "Exemple 2 : Modifier une liste"
      ],
      "metadata": {
        "id": "Tp0lTnyKaQS9"
      },
      "id": "Tp0lTnyKaQS9"
    },
    {
      "cell_type": "code",
      "source": [
        "# Liste des remplaçants\n",
        "remplacants = [\"Baptiste\", \"Charles\", \"Victor\"]\n",
        "\n",
        "# Ajouter un joueur\n",
        "remplacants.append(\"Gabriel\")\n",
        "\n",
        "# Supprimer un joueur\n",
        "remplacants.remove(\"Charles\")\n",
        "\n",
        "# Remplacer un joueur\n",
        "remplacants[1] = \"Alexandre\"\n",
        "\n",
        "# Affichage de la liste modifiée\n",
        "print(f\"Liste des remplaçants : {remplacants}\")\n"
      ],
      "metadata": {
        "colab": {
          "base_uri": "https://localhost:8080/"
        },
        "id": "zuvezfdfaRpp",
        "outputId": "5ce7ac24-8677-420b-ffdb-465987a7e977"
      },
      "id": "zuvezfdfaRpp",
      "execution_count": 36,
      "outputs": [
        {
          "output_type": "stream",
          "name": "stdout",
          "text": [
            "Liste des remplaçants : ['Baptiste', 'Alexandre', 'Gabriel']\n"
          ]
        }
      ]
    },
    {
      "cell_type": "markdown",
      "source": [
        "**Explication :**  \n",
        "- `.append()` ajoute un élément à la fin de la liste.\n",
        "\n",
        "- `.remove()` supprime un élément spécifique.\n",
        "\n",
        "- Les indices permettent de modifier directement un élément."
      ],
      "metadata": {
        "id": "X82NDOkWaUcv"
      },
      "id": "X82NDOkWaUcv"
    },
    {
      "cell_type": "markdown",
      "source": [
        "Exercice : Construire une liste de distances parcourues lors de trois séances, puis de calculer la distance totale.\n",
        "\n",
        "Consigne :\n",
        "\n",
        "* Créez une liste contenant trois distances.\n",
        "* Utilisez sum() pour calculer la distance totale.\n",
        "* Affichez les distances et la somme.\n"
      ],
      "metadata": {
        "id": "f2mcU5aNaWvy"
      },
      "id": "f2mcU5aNaWvy"
    },
    {
      "cell_type": "code",
      "source": [
        "# Liste des distances parcourues\n",
        "distances = [5.2, 7.8, 10.4]  # en kilomètres\n",
        "\n",
        "# Calcul de la distance totale\n",
        "distance_totale = sum(distances)\n",
        "\n",
        "# Affichage des résultats\n",
        "print(f\"Distances : {distances}\")\n",
        "print(f\"Distance totale : {distance_totale} km\")\n"
      ],
      "metadata": {
        "colab": {
          "base_uri": "https://localhost:8080/"
        },
        "id": "HJ_nydngacPe",
        "outputId": "0cf435f6-448d-43a7-82ad-316a783f33eb"
      },
      "id": "HJ_nydngacPe",
      "execution_count": 37,
      "outputs": [
        {
          "output_type": "stream",
          "name": "stdout",
          "text": [
            "Distances : [5.2, 7.8, 10.4]\n",
            "Distance totale : 23.4 km\n"
          ]
        }
      ]
    },
    {
      "cell_type": "markdown",
      "source": [
        "Exemple 3 : Trier une liste"
      ],
      "metadata": {
        "id": "Mah6DGfgafKu"
      },
      "id": "Mah6DGfgafKu"
    },
    {
      "cell_type": "code",
      "source": [
        "# Scores d'une compétition\n",
        "scores = [15, 8, 20, 12]\n",
        "\n",
        "# Trier les scores dans l'ordre croissant\n",
        "scores.sort()\n",
        "print(f\"Scores triés (croissant) : {scores}\")\n",
        "\n",
        "# Trier les scores dans l'ordre décroissant\n",
        "scores.sort(reverse=True)\n",
        "print(f\"Scores triés (décroissant) : {scores}\")\n"
      ],
      "metadata": {
        "colab": {
          "base_uri": "https://localhost:8080/"
        },
        "id": "N7CCzh5QagFH",
        "outputId": "32cc0b6d-ee55-4f91-a732-759cd0fd7d6f"
      },
      "id": "N7CCzh5QagFH",
      "execution_count": 38,
      "outputs": [
        {
          "output_type": "stream",
          "name": "stdout",
          "text": [
            "Scores triés (croissant) : [8, 12, 15, 20]\n",
            "Scores triés (décroissant) : [20, 15, 12, 8]\n"
          ]
        }
      ]
    },
    {
      "cell_type": "markdown",
      "source": [
        "**Explication :**  \n",
        "- `.sort()` trie une liste dans l’ordre croissant.\n",
        "\n",
        "- `reverse=True` inverse l’ordre pour obtenir un tri décroissant."
      ],
      "metadata": {
        "id": "d52FEXekajN9"
      },
      "id": "d52FEXekajN9"
    },
    {
      "cell_type": "markdown",
      "source": [
        "Exemple : Accéder aux éléments par leur indice"
      ],
      "metadata": {
        "id": "Emi9CRPgamoS"
      },
      "id": "Emi9CRPgamoS"
    },
    {
      "cell_type": "code",
      "source": [
        "# Liste des joueurs\n",
        "equipe = [\"Kolbe\", \"Serin\", \"Rebbadj\", \"Belleau\"]\n",
        "\n",
        "# Accéder aux éléments spécifiques\n",
        "print(f\"Premier joueur : {equipe[0]}\")  # Kolbe\n",
        "print(f\"Deuxième joueur : {equipe[1]}\")  # Serin\n",
        "print(f\"Avant-dernier joueur : {equipe[-2]}\")  # Rebbadj\n"
      ],
      "metadata": {
        "colab": {
          "base_uri": "https://localhost:8080/"
        },
        "id": "Snd8vz6eaqxD",
        "outputId": "a38cbebb-646b-4c45-9f25-7c305dbde754"
      },
      "id": "Snd8vz6eaqxD",
      "execution_count": 39,
      "outputs": [
        {
          "output_type": "stream",
          "name": "stdout",
          "text": [
            "Premier joueur : Kolbe\n",
            "Deuxième joueur : Serin\n",
            "Avant-dernier joueur : Rebbadj\n"
          ]
        }
      ]
    },
    {
      "cell_type": "markdown",
      "source": [
        "**Explication :**\n",
        "- Les indices positifs commencent à 0 (de gauche à droite).\n",
        "\n",
        "- Les indices négatifs commencent à -1 (de droite à gauche)."
      ],
      "metadata": {
        "id": "HQInRqEwas6s"
      },
      "id": "HQInRqEwas6s"
    },
    {
      "cell_type": "markdown",
      "source": [
        "Accéder à plusieurs éléments (slicing)\n"
      ],
      "metadata": {
        "id": "QAy_hDVuauyP"
      },
      "id": "QAy_hDVuauyP"
    },
    {
      "cell_type": "code",
      "source": [
        "# Liste des joueurs\n",
        "equipe = [\"Kolbe\", \"Serin\", \"Rebbadj\", \"Belleau\"]\n",
        "\n",
        "# Extraire plusieurs joueurs\n",
        "print(f\"Les deux premiers joueurs : {equipe[:2]}\")  # Kolbe, Serin\n",
        "print(f\"Les deux derniers joueurs : {equipe[-2:]}\")  # Rebbadj, Belleau\n",
        "print(f\"Tous sauf le premier : {equipe[1:]}\")  # Serin, Rebbadj, Belleau\n"
      ],
      "metadata": {
        "colab": {
          "base_uri": "https://localhost:8080/"
        },
        "id": "Lyx-y-rIaxT1",
        "outputId": "4771d698-c2c1-4c76-8da1-d9e4770f7bcc"
      },
      "id": "Lyx-y-rIaxT1",
      "execution_count": 40,
      "outputs": [
        {
          "output_type": "stream",
          "name": "stdout",
          "text": [
            "Les deux premiers joueurs : ['Kolbe', 'Serin']\n",
            "Les deux derniers joueurs : ['Rebbadj', 'Belleau']\n",
            "Tous sauf le premier : ['Serin', 'Rebbadj', 'Belleau']\n"
          ]
        }
      ]
    },
    {
      "cell_type": "markdown",
      "source": [
        "**Explication :**  \n",
        "- `[:2]` signifie \"du début jusqu’à l’indice 2 (non inclus)\".\n",
        "\n",
        "- `[-2:]` signifie \"des deux derniers indices jusqu’à la fin\".\n",
        "\n",
        "- `[1:]` signifie \"du deuxième élément jusqu’à la fin\".\n"
      ],
      "metadata": {
        "id": "nAuF1qS1azju"
      },
      "id": "nAuF1qS1azju"
    },
    {
      "cell_type": "markdown",
      "source": [
        "Accéder à des éléments avec un pas (step)"
      ],
      "metadata": {
        "id": "J9KGMzwBa1Ii"
      },
      "id": "J9KGMzwBa1Ii"
    },
    {
      "cell_type": "code",
      "source": [
        "# Liste des joueurs\n",
        "equipe = [\"Kolbe\", \"Serin\", \"Rebbadj\", \"Belleau\"]\n",
        "\n",
        "# Prendre un élément sur deux\n",
        "print(f\"Un joueur sur deux : {equipe[::2]}\")  # Kolbe, Rebbadj\n",
        "\n",
        "# Inverser l’ordre de la liste\n",
        "print(f\"Équipe inversée : {equipe[::-1]}\")  # Belleau, Rebbadj, Serin, Kolbe\n"
      ],
      "metadata": {
        "colab": {
          "base_uri": "https://localhost:8080/"
        },
        "id": "VXik09rpa2GU",
        "outputId": "46b2c056-5be1-4547-af98-90554aac6ef4"
      },
      "id": "VXik09rpa2GU",
      "execution_count": 41,
      "outputs": [
        {
          "output_type": "stream",
          "name": "stdout",
          "text": [
            "Un joueur sur deux : ['Kolbe', 'Rebbadj']\n",
            "Équipe inversée : ['Belleau', 'Rebbadj', 'Serin', 'Kolbe']\n"
          ]
        }
      ]
    },
    {
      "cell_type": "markdown",
      "source": [
        "**Explication :**  \n",
        "- `step` définit l’écart entre les indices :\n",
        "  - `::2` signifie \"prendre un élément sur deux\".\n",
        "\n",
        "  - `[::-1]` permet d’inverser la liste."
      ],
      "metadata": {
        "id": "DRXRhB2Ca4C2"
      },
      "id": "DRXRhB2Ca4C2"
    },
    {
      "cell_type": "markdown",
      "source": [
        "Accéder aux éléments dans une liste imbriquée"
      ],
      "metadata": {
        "id": "kFeRAEjna5fz"
      },
      "id": "kFeRAEjna5fz"
    },
    {
      "cell_type": "code",
      "source": [
        "# Liste de listes (résultats des matchs)\n",
        "matchs = [\n",
        "    [20, 15],  # Scores du match 1\n",
        "    [25, 10],  # Scores du match 2\n",
        "    [30, 20]   # Scores du match 3\n",
        "]\n",
        "\n",
        "# Accéder au score du deuxième match\n",
        "print(f\"Score du deuxième match : {matchs[1]}\")\n",
        "\n",
        "# Accéder au score de l’équipe 1 dans le deuxième match\n",
        "print(f\"Score de l’équipe 1 dans le deuxième match : {matchs[1][0]}\")\n"
      ],
      "metadata": {
        "colab": {
          "base_uri": "https://localhost:8080/"
        },
        "id": "JkaCFbN4a6dN",
        "outputId": "8ad01355-e111-44f3-d647-631364f05f3e"
      },
      "id": "JkaCFbN4a6dN",
      "execution_count": 42,
      "outputs": [
        {
          "output_type": "stream",
          "name": "stdout",
          "text": [
            "Score du deuxième match : [25, 10]\n",
            "Score de l’équipe 1 dans le deuxième match : 25\n"
          ]
        }
      ]
    },
    {
      "cell_type": "markdown",
      "source": [
        "**Explication :**\n",
        "- Les listes imbriquées contiennent des sous-listes.\n",
        "\n",
        "- Utilisez plusieurs indices pour accéder à un élément spécifique."
      ],
      "metadata": {
        "id": "6819PEeha9IL"
      },
      "id": "6819PEeha9IL"
    },
    {
      "cell_type": "markdown",
      "source": [
        " Rechercher un élément dans une liste"
      ],
      "metadata": {
        "id": "Tv_Lj0aRa-kR"
      },
      "id": "Tv_Lj0aRa-kR"
    },
    {
      "cell_type": "code",
      "source": [
        "# Liste des joueurs\n",
        "equipe = [\"Kolbe\", \"Serin\", \"Rebbadj\", \"Belleau\"]\n",
        "\n",
        "# Vérifier la présence d'un joueur\n",
        "if \"Serin\" in equipe:\n",
        "    print(\"Serin fait partie de l'équipe.\")\n",
        "\n",
        "# Trouver la position d'un joueur\n",
        "position = equipe.index(\"Rebbadj\")\n",
        "print(f\"Rebbadj est à la position : {position + 1}\")\n"
      ],
      "metadata": {
        "colab": {
          "base_uri": "https://localhost:8080/"
        },
        "id": "BB3kgszKa_qH",
        "outputId": "8373ea01-afa1-4340-dff6-89ff6cfe2623"
      },
      "id": "BB3kgszKa_qH",
      "execution_count": 43,
      "outputs": [
        {
          "output_type": "stream",
          "name": "stdout",
          "text": [
            "Serin fait partie de l'équipe.\n",
            "Rebbadj est à la position : 3\n"
          ]
        }
      ]
    },
    {
      "cell_type": "markdown",
      "source": [
        "**Explication :**  \n",
        "- `in` vérifie si un élément est dans la liste.\n",
        "\n",
        "- `.index()` retourne la position d’un élément."
      ],
      "metadata": {
        "id": "_rdkyIM4bBkd"
      },
      "id": "_rdkyIM4bBkd"
    },
    {
      "cell_type": "markdown",
      "id": "3e6fab2a",
      "metadata": {
        "id": "3e6fab2a"
      },
      "source": [
        "# Compréhensions de listes"
      ]
    },
    {
      "cell_type": "markdown",
      "source": [
        "Les compréhensions de listes permettent de créer de nouvelles listes à partir d'une autre structure, souvent en une seule ligne de code."
      ],
      "metadata": {
        "id": "1msvQllPbEtl"
      },
      "id": "1msvQllPbEtl"
    },
    {
      "cell_type": "markdown",
      "source": [
        "Exemple 1 : Créer une liste de carrés"
      ],
      "metadata": {
        "id": "sHiFosiLbGR_"
      },
      "id": "sHiFosiLbGR_"
    },
    {
      "cell_type": "code",
      "source": [
        "# Liste des nombres\n",
        "nombres = [1, 2, 3, 4, 5]\n",
        "\n",
        "# Calculer les carrés\n",
        "carres = [x**2 for x in nombres]\n",
        "\n",
        "# Affichage\n",
        "print(f\"Nombres : {nombres}\")\n",
        "print(f\"Carrés : {carres}\")\n"
      ],
      "metadata": {
        "colab": {
          "base_uri": "https://localhost:8080/"
        },
        "id": "9peaywSYbHHV",
        "outputId": "9d01a973-b90c-4b4e-8088-627f8f025d06"
      },
      "id": "9peaywSYbHHV",
      "execution_count": 44,
      "outputs": [
        {
          "output_type": "stream",
          "name": "stdout",
          "text": [
            "Nombres : [1, 2, 3, 4, 5]\n",
            "Carrés : [1, 4, 9, 16, 25]\n"
          ]
        }
      ]
    },
    {
      "cell_type": "markdown",
      "source": [
        "**Explication :**  \n",
        "- `[x**2 for x in nombres]` signifie :\n",
        "  - Parcourir chaque élément `x` de `nombres`.\n",
        "\n",
        "  - Calculer le carré (`x**2`) pour chaque élément.\n"
      ],
      "metadata": {
        "id": "N0uiBnMgbJB5"
      },
      "id": "N0uiBnMgbJB5"
    },
    {
      "cell_type": "markdown",
      "source": [
        "Exemple 2 : Filtrer les éléments avec une condition"
      ],
      "metadata": {
        "id": "Ys8C6lpZbKHD"
      },
      "id": "Ys8C6lpZbKHD"
    },
    {
      "cell_type": "code",
      "source": [
        "# Liste des vitesses des joueurs (en m/s)\n",
        "vitesses = [6.5, 8.2, 9.3, 7.8, 10.1]\n",
        "\n",
        "# Garder uniquement les vitesses supérieures à 8\n",
        "vitesses_rapides = [v for v in vitesses if v > 8]\n",
        "\n",
        "# Affichage\n",
        "print(f\"Vitesses : {vitesses}\")\n",
        "print(f\"Vitesses rapides : {vitesses_rapides}\")\n"
      ],
      "metadata": {
        "colab": {
          "base_uri": "https://localhost:8080/"
        },
        "id": "6Zc7iPNZbLFY",
        "outputId": "3a31011e-ace6-4733-db17-7114daf64549"
      },
      "id": "6Zc7iPNZbLFY",
      "execution_count": 45,
      "outputs": [
        {
          "output_type": "stream",
          "name": "stdout",
          "text": [
            "Vitesses : [6.5, 8.2, 9.3, 7.8, 10.1]\n",
            "Vitesses rapides : [8.2, 9.3, 10.1]\n"
          ]
        }
      ]
    },
    {
      "cell_type": "markdown",
      "source": [
        "**Explication :**  \n",
        "- `[v for v in vitesses if v > 8]` signifie :\n",
        "  - Parcourir chaque vitesse `v`.\n",
        "\n",
        "  - Garder uniquement celles qui répondent à la condition `v > 8`."
      ],
      "metadata": {
        "id": "SnyT-2ilbM_C"
      },
      "id": "SnyT-2ilbM_C"
    },
    {
      "cell_type": "markdown",
      "source": [
        "Exemple 3 : Appliquer une transformation et filtrer\n",
        "python\n"
      ],
      "metadata": {
        "id": "Rq7SefgKbOLz"
      },
      "id": "Rq7SefgKbOLz"
    },
    {
      "cell_type": "code",
      "source": [
        "# Liste des scores\n",
        "scores = [10, 15, 20, 25]\n",
        "\n",
        "# Doubler uniquement les scores supérieurs à 15\n",
        "scores_doubles = [s * 2 for s in scores if s > 15]\n",
        "\n",
        "# Affichage\n",
        "print(f\"Scores : {scores}\")\n",
        "print(f\"Scores doublés : {scores_doubles}\")\n"
      ],
      "metadata": {
        "colab": {
          "base_uri": "https://localhost:8080/"
        },
        "id": "OhkpW_p0bQEe",
        "outputId": "cb647727-94df-4532-80ec-25313be88254"
      },
      "id": "OhkpW_p0bQEe",
      "execution_count": 46,
      "outputs": [
        {
          "output_type": "stream",
          "name": "stdout",
          "text": [
            "Scores : [10, 15, 20, 25]\n",
            "Scores doublés : [40, 50]\n"
          ]
        }
      ]
    },
    {
      "cell_type": "markdown",
      "source": [
        "**Explication :**\n",
        "- Les compréhensions de listes permettent de combiner des transformations et des filtres dans une seule expression.\n"
      ],
      "metadata": {
        "id": "tGkonAgrbS42"
      },
      "id": "tGkonAgrbS42"
    },
    {
      "cell_type": "markdown",
      "source": [
        "Exemple 4 : Transformer les noms en majuscules"
      ],
      "metadata": {
        "id": "VAY0LvOhbUWr"
      },
      "id": "VAY0LvOhbUWr"
    },
    {
      "cell_type": "code",
      "source": [
        "# Liste des noms\n",
        "joueurs = [\"Kolbe\", \"Serin\", \"Rebbadj\", \"Belleau\"]\n",
        "\n",
        "# Transformer les noms en majuscules\n",
        "joueurs_majuscules = [nom.upper() for nom in joueurs]\n",
        "\n",
        "# Affichage\n",
        "print(f\"Noms d'origine : {joueurs}\")\n",
        "print(f\"Noms en majuscules : {joueurs_majuscules}\")\n"
      ],
      "metadata": {
        "colab": {
          "base_uri": "https://localhost:8080/"
        },
        "id": "gS8IZ764bVmZ",
        "outputId": "134af7a0-e28a-48ef-aaed-0cba39be1b80"
      },
      "id": "gS8IZ764bVmZ",
      "execution_count": 47,
      "outputs": [
        {
          "output_type": "stream",
          "name": "stdout",
          "text": [
            "Noms d'origine : ['Kolbe', 'Serin', 'Rebbadj', 'Belleau']\n",
            "Noms en majuscules : ['KOLBE', 'SERIN', 'REBBADJ', 'BELLEAU']\n"
          ]
        }
      ]
    },
    {
      "cell_type": "markdown",
      "source": [
        "**Explication :**\n",
        "- Les chaînes peuvent également être transformées dans une compréhension."
      ],
      "metadata": {
        "id": "wuba2xdNbYoH"
      },
      "id": "wuba2xdNbYoH"
    },
    {
      "cell_type": "markdown",
      "source": [
        "#### Explication de zip()\n",
        "\n",
        "La fonction zip() combine plusieurs listes (ou itérables) pour créer un ensemble de tuples, où chaque tuple contient un élément de chaque liste à la même position.\n",
        "\n",
        "Exemple : Associer des joueurs à leurs scores\n"
      ],
      "metadata": {
        "id": "YFG_SqwScQ_d"
      },
      "id": "YFG_SqwScQ_d"
    },
    {
      "cell_type": "code",
      "source": [
        "# Listes des joueurs et de leurs scores\n",
        "joueurs = [\"Kolbe\", \"Serin\", \"Rebbadj\"]\n",
        "scores = [15, 20, 10]\n",
        "\n",
        "# Associer les joueurs à leurs scores\n",
        "association = list(zip(joueurs, scores))\n",
        "\n",
        "# Affichage\n",
        "print(\"Association joueurs-scores :\", association)\n"
      ],
      "metadata": {
        "colab": {
          "base_uri": "https://localhost:8080/"
        },
        "id": "mqkxEDdhcXsD",
        "outputId": "c105bb15-f8e1-4f63-8248-30f41c144c93"
      },
      "id": "mqkxEDdhcXsD",
      "execution_count": 48,
      "outputs": [
        {
          "output_type": "stream",
          "name": "stdout",
          "text": [
            "Association joueurs-scores : [('Kolbe', 15), ('Serin', 20), ('Rebbadj', 10)]\n"
          ]
        }
      ]
    },
    {
      "cell_type": "markdown",
      "source": [
        "**Explication :**  \n",
        "- `zip(joueurs, scores)` crée des tuples : un joueur est associé à son score.\n",
        "\n",
        "- `list()` transforme le résultat de `zip()` en une liste."
      ],
      "metadata": {
        "id": "Ck_i0_JLcbvQ"
      },
      "id": "Ck_i0_JLcbvQ"
    },
    {
      "cell_type": "markdown",
      "source": [
        "Exemple : Itérer sur plusieurs listes avec zip"
      ],
      "metadata": {
        "id": "zjSgsEseck2n"
      },
      "id": "zjSgsEseck2n"
    },
    {
      "cell_type": "code",
      "source": [
        "# Listes des joueurs et scores\n",
        "joueurs = [\"Kolbe\", \"Serin\", \"Rebbadj\"]\n",
        "scores = [15, 20, 10]\n",
        "\n",
        "# Afficher chaque joueur avec son score\n",
        "for joueur, score in zip(joueurs, scores):\n",
        "    print(f\"{joueur} a marqué {score} points.\")\n"
      ],
      "metadata": {
        "colab": {
          "base_uri": "https://localhost:8080/"
        },
        "id": "szIeHxEYclrf",
        "outputId": "faee12cb-cff2-4f3d-b1f4-c0da493d09bf"
      },
      "id": "szIeHxEYclrf",
      "execution_count": 49,
      "outputs": [
        {
          "output_type": "stream",
          "name": "stdout",
          "text": [
            "Kolbe a marqué 15 points.\n",
            "Serin a marqué 20 points.\n",
            "Rebbadj a marqué 10 points.\n"
          ]
        }
      ]
    },
    {
      "cell_type": "markdown",
      "source": [
        "**Explication :**  \n",
        "- Dans la boucle `for`, `zip()` associe les éléments correspondants des deux listes.\n",
        "\n",
        "- Chaque itération traite un tuple `(joueur, score)`."
      ],
      "metadata": {
        "id": "9Pt-U1dfcp9f"
      },
      "id": "9Pt-U1dfcp9f"
    },
    {
      "cell_type": "markdown",
      "source": [
        "Exercice : Associer des poids et des tailles pour calculer les IMC"
      ],
      "metadata": {
        "id": "QgBYE6v5culv"
      },
      "id": "QgBYE6v5culv"
    },
    {
      "cell_type": "code",
      "source": [
        "# Listes des poids et tailles\n",
        "poids = [55, 70, 85, 62, 90]\n",
        "tailles = [1.65, 1.75, 1.80, 1.70, 1.85]\n",
        "\n",
        "# Associer poids et tailles pour calculer les IMC\n",
        "imc = [p / (t**2) for p, t in zip(poids, tailles)]\n",
        "\n",
        "# Affichage\n",
        "print(\"IMC calculés :\", imc)\n"
      ],
      "metadata": {
        "colab": {
          "base_uri": "https://localhost:8080/"
        },
        "id": "whm-twElcw6q",
        "outputId": "be8a95d9-4b8b-4c3b-f425-b01ca3424ae6"
      },
      "id": "whm-twElcw6q",
      "execution_count": 50,
      "outputs": [
        {
          "output_type": "stream",
          "name": "stdout",
          "text": [
            "IMC calculés : [20.202020202020204, 22.857142857142858, 26.234567901234566, 21.453287197231838, 26.296566837107374]\n"
          ]
        }
      ]
    },
    {
      "cell_type": "markdown",
      "source": [
        "**Explication :**  \n",
        "- `zip(poids, tailles)` associe chaque poids à sa taille.\n",
        "\n",
        "- La compréhension calcule l’IMC pour chaque paire `(poids, taille)`."
      ],
      "metadata": {
        "id": "YTm2x14eczqf"
      },
      "id": "YTm2x14eczqf"
    },
    {
      "cell_type": "markdown",
      "source": [
        "#### Exercice : Identifier les scores élevés\n",
        "\n",
        "Demandez aux étudiants d'identifier les scores supérieurs à 20 dans une liste et de les diviser par 2.\n",
        "**Consigne :**\n",
        "1. Fournissez une liste de scores.\n",
        "\n",
        "2. Sélectionnez les scores > 20 et divisez-les par 2.\n",
        "\n",
        "3. Affichez la nouvelle liste."
      ],
      "metadata": {
        "id": "X_BWAiYGbbSg"
      },
      "id": "X_BWAiYGbbSg"
    },
    {
      "cell_type": "markdown",
      "source": [
        "Solution"
      ],
      "metadata": {
        "id": "-82-11YXbcvi"
      },
      "id": "-82-11YXbcvi"
    },
    {
      "cell_type": "code",
      "source": [
        "# Liste des scores\n",
        "scores = [18, 25, 30, 22, 15]\n",
        "\n",
        "# Filtrer et transformer les scores\n",
        "scores_reduits = [s / 2 for s in scores if s > 20]\n",
        "\n",
        "# Affichage\n",
        "print(f\"Scores d'origine : {scores}\")\n",
        "print(f\"Scores réduits : {scores_reduits}\")\n"
      ],
      "metadata": {
        "colab": {
          "base_uri": "https://localhost:8080/"
        },
        "id": "rsFYl6-wbdqX",
        "outputId": "16af139e-b6af-4190-f06f-cb9892c5d9ce"
      },
      "id": "rsFYl6-wbdqX",
      "execution_count": 51,
      "outputs": [
        {
          "output_type": "stream",
          "name": "stdout",
          "text": [
            "Scores d'origine : [18, 25, 30, 22, 15]\n",
            "Scores réduits : [12.5, 15.0, 11.0]\n"
          ]
        }
      ]
    },
    {
      "cell_type": "markdown",
      "source": [
        "#### Exercice 1 : Calculer les énergies cinétiques\n",
        "\n",
        "calculer l'énergie cinétique pour chaque athlète en fonction de leurs masses et vitesses, et de garder uniquement celles supérieures à 300 Joules.\n",
        "**Consigne :**\n",
        "1. Fournissez deux listes : une pour les masses (en kg) et une pour les vitesses (en m/s).\n",
        "\n",
        "2. Utilisez une compréhension de liste pour calculer l'énergie cinétique avec la formule :\n",
        "$$\n",
        " E_c = \\frac{1}{2} \\times m \\times v^2\n",
        "$$\n",
        "\n",
        "3. Filtrez pour conserver uniquement les énergies supérieures à 300 Joules.\n",
        "\n",
        "4. Affichez la liste finale."
      ],
      "metadata": {
        "id": "qNq07_n2bmPR"
      },
      "id": "qNq07_n2bmPR"
    },
    {
      "cell_type": "code",
      "source": [
        "# Listes des masses et vitesses\n",
        "masses = [70, 80, 60, 75]\n",
        "vitesses = [6.5, 8.2, 7.1, 9.0]\n",
        "\n",
        "# Calcul des énergies cinétiques supérieures à 300 Joules\n",
        "energies_cinetiques = [0.5 * m * v**2 for m, v in zip(masses, vitesses) if 0.5 * m * v**2 > 300]\n",
        "\n",
        "# Affichage\n",
        "print(f\"Énergies cinétiques supérieures à 300 Joules : {energies_cinetiques}\")\n"
      ],
      "metadata": {
        "colab": {
          "base_uri": "https://localhost:8080/"
        },
        "id": "zzmHvrYqbwFh",
        "outputId": "4237d851-2ab6-4e61-83ef-61044ca3d451"
      },
      "id": "zzmHvrYqbwFh",
      "execution_count": 52,
      "outputs": [
        {
          "output_type": "stream",
          "name": "stdout",
          "text": [
            "Énergies cinétiques supérieures à 300 Joules : [1478.75, 2689.6, 1512.3, 3037.5]\n"
          ]
        }
      ]
    },
    {
      "cell_type": "markdown",
      "source": [
        "#### Exercice 2 : Identifier les équipes avec des points élevés\n",
        "\n",
        "Demandez aux étudiants d'extraire les équipes ayant marqué plus de 20 points dans une liste de tuples.\n",
        "**Consigne :**\n",
        "1. Fournissez une liste de tuples, chaque tuple contenant le nom de l’équipe et son score.\n",
        "\n",
        "2. Utilisez une compréhension pour extraire les noms des équipes avec un score > 20.\n",
        "\n",
        "3. Affichez la liste des équipes sélectionnées."
      ],
      "metadata": {
        "id": "khI7D2gEbzr5"
      },
      "id": "khI7D2gEbzr5"
    },
    {
      "cell_type": "markdown",
      "source": [
        "Solution\n"
      ],
      "metadata": {
        "id": "6FTa6vFdbupH"
      },
      "id": "6FTa6vFdbupH"
    },
    {
      "cell_type": "code",
      "source": [
        "# Liste des scores par équipe\n",
        "scores_equipes = [(\"RCT\", 25), (\"Toulon\", 18), (\"Marseille\", 30), (\"Nice\", 15)]\n",
        "\n",
        "# Extraire les équipes avec un score > 20\n",
        "equipes_points_elevés = [equipe for equipe, score in scores_equipes if score > 20]\n",
        "\n",
        "# Affichage\n",
        "print(f\"Équipes avec des scores élevés : {equipes_points_elevés}\")\n"
      ],
      "metadata": {
        "colab": {
          "base_uri": "https://localhost:8080/"
        },
        "id": "FU304GCRb0o1",
        "outputId": "f0b9b3a8-27b9-4d47-886a-dea3e8fa7ab4"
      },
      "id": "FU304GCRb0o1",
      "execution_count": 53,
      "outputs": [
        {
          "output_type": "stream",
          "name": "stdout",
          "text": [
            "Équipes avec des scores élevés : ['RCT', 'Marseille']\n"
          ]
        }
      ]
    },
    {
      "cell_type": "markdown",
      "source": [
        "#### Exercice 3 : Identifier les IMC dans la zone \"poids normal\"\n",
        "\n",
        "Demandez aux étudiants de calculer l'IMC pour une liste de patients et d’identifier ceux ayant un IMC dans la plage normale (18.5 à 24.9).\n",
        "**Consigne :**\n",
        "1. Fournissez deux listes : une pour les poids (en kg) et une pour les tailles (en m).\n",
        "\n",
        "2. Utilisez une compréhension pour calculer l'IMC :\n",
        "$$\n",
        " IMC = \\frac{\\text{poids}}{\\text{taille}^2}\n",
        "$$\n",
        "\n",
        "3. Filtrez pour conserver uniquement les IMC dans la plage normale.\n",
        "\n",
        "4. Affichez la liste des IMC normaux."
      ],
      "metadata": {
        "id": "yHBjItcPcGHJ"
      },
      "id": "yHBjItcPcGHJ"
    },
    {
      "cell_type": "markdown",
      "source": [
        "Solution"
      ],
      "metadata": {
        "id": "drn2J_MbcH-H"
      },
      "id": "drn2J_MbcH-H"
    },
    {
      "cell_type": "code",
      "source": [
        "# Listes des poids et tailles\n",
        "poids = [55, 70, 85, 62, 90]\n",
        "tailles = [1.65, 1.75, 1.80, 1.70, 1.85]\n",
        "\n",
        "# Calcul et filtrage des IMC dans la plage normale\n",
        "imc_normaux = [p / (t**2) for p, t in zip(poids, tailles) if 18.5 <= p / (t**2) <= 24.9]\n",
        "\n",
        "# Affichage\n",
        "print(f\"IMC dans la plage normale : {imc_normaux}\")\n"
      ],
      "metadata": {
        "colab": {
          "base_uri": "https://localhost:8080/"
        },
        "id": "jPWjbYC_cJDf",
        "outputId": "47b3b7b1-7bb4-456d-b4e4-78338e10a88d"
      },
      "id": "jPWjbYC_cJDf",
      "execution_count": 54,
      "outputs": [
        {
          "output_type": "stream",
          "name": "stdout",
          "text": [
            "IMC dans la plage normale : [20.202020202020204, 22.857142857142858, 21.453287197231838]\n"
          ]
        }
      ]
    },
    {
      "cell_type": "markdown",
      "id": "be2c1899",
      "metadata": {
        "id": "be2c1899"
      },
      "source": [
        "# Compréhensions de listes imbriquées"
      ]
    },
    {
      "cell_type": "markdown",
      "source": [
        "Les compréhensions de listes imbriquées permettent de manipuler des structures plus complexes, comme des matrices ou des tableaux de données."
      ],
      "metadata": {
        "id": "Vq2J5tnLbtkP"
      },
      "id": "Vq2J5tnLbtkP"
    },
    {
      "cell_type": "markdown",
      "source": [
        "Exemple 1 : Créer une table de multiplication"
      ],
      "metadata": {
        "id": "ZhI3KKh6c-9t"
      },
      "id": "ZhI3KKh6c-9t"
    },
    {
      "cell_type": "code",
      "source": [
        "# Table de multiplication 5x5\n",
        "table = [[i * j for j in range(1, 6)] for i in range(1, 6)]\n",
        "\n",
        "# Affichage de la table\n",
        "print(\"Table de multiplication 5x5 :\")\n",
        "for ligne in table:\n",
        "    print(ligne)\n"
      ],
      "metadata": {
        "colab": {
          "base_uri": "https://localhost:8080/"
        },
        "id": "-yA5Afuxc_wW",
        "outputId": "1a420e50-75b0-4bc1-eb21-3bef063f23a6"
      },
      "id": "-yA5Afuxc_wW",
      "execution_count": 55,
      "outputs": [
        {
          "output_type": "stream",
          "name": "stdout",
          "text": [
            "Table de multiplication 5x5 :\n",
            "[1, 2, 3, 4, 5]\n",
            "[2, 4, 6, 8, 10]\n",
            "[3, 6, 9, 12, 15]\n",
            "[4, 8, 12, 16, 20]\n",
            "[5, 10, 15, 20, 25]\n"
          ]
        }
      ]
    },
    {
      "cell_type": "markdown",
      "source": [
        "**Explication :**  \n",
        "- La compréhension imbriquée `[i * j for j in range(1, 6)]` calcule une ligne.\n",
        "\n",
        "- La boucle externe `[... for i in range(1, 6)]` répète ce calcul pour chaque ligne."
      ],
      "metadata": {
        "id": "DO_xzy_CdBzt"
      },
      "id": "DO_xzy_CdBzt"
    },
    {
      "cell_type": "markdown",
      "source": [
        "Exemple 2 : Points cumulés des équipes\n",
        "python\n"
      ],
      "metadata": {
        "id": "zGBdAgQldDDQ"
      },
      "id": "zGBdAgQldDDQ"
    },
    {
      "cell_type": "code",
      "source": [
        "# Points cumulés pour deux équipes sur trois matchs\n",
        "equipes = [\"RCT\", \"Toulon\"]\n",
        "points = [[match * 3 for match in range(1, 4)] for equipe in equipes]\n",
        "\n",
        "# Affichage des points\n",
        "print(\"Points cumulés par équipe :\")\n",
        "for equipe, scores in zip(equipes, points):\n",
        "    print(f\"{equipe} : {scores}\")\n"
      ],
      "metadata": {
        "colab": {
          "base_uri": "https://localhost:8080/"
        },
        "id": "_3Amv2X3dExE",
        "outputId": "0c229111-7b50-4816-baeb-1bb059541a1d"
      },
      "id": "_3Amv2X3dExE",
      "execution_count": 56,
      "outputs": [
        {
          "output_type": "stream",
          "name": "stdout",
          "text": [
            "Points cumulés par équipe :\n",
            "RCT : [3, 6, 9]\n",
            "Toulon : [3, 6, 9]\n"
          ]
        }
      ]
    },
    {
      "cell_type": "markdown",
      "source": [
        "**Explication :**\n",
        "- Chaque sous-liste représente les scores d’une équipe sur 3 matchs.\n",
        "\n",
        "- La fonction `zip()` associe chaque équipe à ses points."
      ],
      "metadata": {
        "id": "fnq0SaIddHEx"
      },
      "id": "fnq0SaIddHEx"
    },
    {
      "cell_type": "markdown",
      "source": [
        "#### Exercice 1 : Créer une matrice d’entraînement\n",
        "\n",
        "Demandez aux étudiants de générer une matrice représentant l’intensité d’entraînement sur une semaine (jours de 1 à 7) et pour plusieurs joueurs.\n",
        "**Consigne :**  \n",
        "1. Générer une matrice où chaque joueur a une intensité croissante chaque jour (par exemple, `jour * joueur`).\n",
        "\n",
        "2. La matrice doit comporter 3 joueurs et 7 jours.\n",
        "\n",
        "3. Afficher chaque ligne."
      ],
      "metadata": {
        "id": "IFi4TJL6dL3y"
      },
      "id": "IFi4TJL6dL3y"
    },
    {
      "cell_type": "markdown",
      "source": [
        "Solution"
      ],
      "metadata": {
        "id": "fJr_mANvdPvH"
      },
      "id": "fJr_mANvdPvH"
    },
    {
      "cell_type": "code",
      "source": [
        "# Matrice d'entraînement\n",
        "joueurs = [\"Joueur 1\", \"Joueur 2\", \"Joueur 3\"]\n",
        "entrainement = [[jour * (i + 1) for jour in range(1, 8)] for i in range(3)]\n",
        "\n",
        "# Affichage\n",
        "print(\"Intensité d'entraînement sur une semaine :\")\n",
        "for joueur, intensites in zip(joueurs, entrainement):\n",
        "    print(f\"{joueur} : {intensites}\")\n"
      ],
      "metadata": {
        "colab": {
          "base_uri": "https://localhost:8080/"
        },
        "id": "Wc7D3PA8dON1",
        "outputId": "2de25e12-e683-4dd1-ea81-ea8838f71533"
      },
      "id": "Wc7D3PA8dON1",
      "execution_count": 57,
      "outputs": [
        {
          "output_type": "stream",
          "name": "stdout",
          "text": [
            "Intensité d'entraînement sur une semaine :\n",
            "Joueur 1 : [1, 2, 3, 4, 5, 6, 7]\n",
            "Joueur 2 : [2, 4, 6, 8, 10, 12, 14]\n",
            "Joueur 3 : [3, 6, 9, 12, 15, 18, 21]\n"
          ]
        }
      ]
    },
    {
      "cell_type": "markdown",
      "source": [
        "#### Exercice 2 : Calcul des statistiques par match\n",
        "\n",
        "Demandez aux étudiants de calculer la somme des points marqués par chaque équipe sur plusieurs matchs.\n",
        "**Consigne :**\n",
        "1. Fournir une matrice où chaque ligne contient les scores d’une équipe sur plusieurs matchs.\n",
        "\n",
        "2. Utiliser une compréhension pour calculer la somme des points par équipe.\n",
        "\n",
        "3. Afficher les résultats."
      ],
      "metadata": {
        "id": "qjzmJTkvdTL8"
      },
      "id": "qjzmJTkvdTL8"
    },
    {
      "cell_type": "code",
      "source": [
        "# Matrice des scores par match\n",
        "scores_equipes = [\n",
        "    [15, 20, 18],  # Équipe 1\n",
        "    [10, 25, 30],  # Équipe 2\n",
        "    [20, 15, 25]   # Équipe 3\n",
        "]\n",
        "\n",
        "# Somme des points pour chaque équipe\n",
        "somme_points = [sum(scores) for scores in scores_equipes]\n",
        "\n",
        "# Affichage\n",
        "print(\"Somme des points par équipe :\", somme_points)\n"
      ],
      "metadata": {
        "colab": {
          "base_uri": "https://localhost:8080/"
        },
        "id": "U6ZxDjN6dUEU",
        "outputId": "63532a1d-7178-49fb-b861-5259bff2eb66"
      },
      "id": "U6ZxDjN6dUEU",
      "execution_count": 58,
      "outputs": [
        {
          "output_type": "stream",
          "name": "stdout",
          "text": [
            "Somme des points par équipe : [53, 65, 60]\n"
          ]
        }
      ]
    },
    {
      "cell_type": "markdown",
      "id": "63284fcb",
      "metadata": {
        "id": "63284fcb"
      },
      "source": [
        "# Les ensembles (Sets)"
      ]
    },
    {
      "cell_type": "markdown",
      "source": [
        "Les ensembles en Python sont des collections non ordonnées d'éléments uniques. Ils permettent des opérations comme les unions, intersections et différences."
      ],
      "metadata": {
        "id": "8c2yqQC-dYL8"
      },
      "id": "8c2yqQC-dYL8"
    },
    {
      "cell_type": "markdown",
      "source": [
        "Exemple 1 : Créer et manipuler des ensembles"
      ],
      "metadata": {
        "id": "HD1xA9CmdbJn"
      },
      "id": "HD1xA9CmdbJn"
    },
    {
      "cell_type": "code",
      "source": [
        "# Ensemble des joueurs ayant participé au match 1\n",
        "joueurs_match1 = {\"Kolbe\", \"Serin\", \"Rebbadj\"}\n",
        "\n",
        "# Ajouter un joueur\n",
        "joueurs_match1.add(\"Belleau\")\n",
        "print(\"Joueurs après ajout :\", joueurs_match1)\n",
        "\n",
        "# Supprimer un joueur\n",
        "joueurs_match1.remove(\"Rebbadj\")\n",
        "print(\"Joueurs après suppression :\", joueurs_match1)\n"
      ],
      "metadata": {
        "colab": {
          "base_uri": "https://localhost:8080/"
        },
        "id": "0Nv0zXsodZ6I",
        "outputId": "d9204b39-e8ab-46de-cff8-200c032769e6"
      },
      "id": "0Nv0zXsodZ6I",
      "execution_count": 59,
      "outputs": [
        {
          "output_type": "stream",
          "name": "stdout",
          "text": [
            "Joueurs après ajout : {'Kolbe', 'Belleau', 'Serin', 'Rebbadj'}\n",
            "Joueurs après suppression : {'Kolbe', 'Belleau', 'Serin'}\n"
          ]
        }
      ]
    },
    {
      "cell_type": "markdown",
      "source": [
        "**Explication :**\n",
        "- Les ensembles éliminent automatiquement les doublons.\n",
        "\n",
        "- `.add()` ajoute un élément, `.remove()` le supprime."
      ],
      "metadata": {
        "id": "KFqdcWsBdhSS"
      },
      "id": "KFqdcWsBdhSS"
    },
    {
      "cell_type": "markdown",
      "source": [
        "Exemple 2 : Opérations entre ensembles"
      ],
      "metadata": {
        "id": "TU1-h7MRdjdZ"
      },
      "id": "TU1-h7MRdjdZ"
    },
    {
      "cell_type": "code",
      "source": [
        "# Joueurs des deux matchs\n",
        "joueurs_match1 = {\"Kolbe\", \"Serin\", \"Rebbadj\"}\n",
        "joueurs_match2 = {\"Kolbe\", \"Belleau\", \"Rebbadj\"}\n",
        "\n",
        "# Union des deux ensembles\n",
        "union = joueurs_match1 | joueurs_match2\n",
        "print(\"Union :\", union)\n",
        "\n",
        "# Intersection des deux ensembles\n",
        "intersection = joueurs_match1 & joueurs_match2\n",
        "print(\"Intersection :\", intersection)\n",
        "\n",
        "# Différence des deux ensembles\n",
        "difference = joueurs_match1 - joueurs_match2\n",
        "print(\"Différence :\", difference)\n"
      ],
      "metadata": {
        "colab": {
          "base_uri": "https://localhost:8080/"
        },
        "id": "7SqabAbtdkS5",
        "outputId": "a9ef3b54-aa4e-4ad9-fad3-f50d39f03bee"
      },
      "id": "7SqabAbtdkS5",
      "execution_count": 60,
      "outputs": [
        {
          "output_type": "stream",
          "name": "stdout",
          "text": [
            "Union : {'Kolbe', 'Serin', 'Rebbadj', 'Belleau'}\n",
            "Intersection : {'Kolbe', 'Rebbadj'}\n",
            "Différence : {'Serin'}\n"
          ]
        }
      ]
    },
    {
      "cell_type": "markdown",
      "source": [
        "**Explication :**  \n",
        "- `|` (union) rassemble tous les éléments uniques des deux ensembles.\n",
        "\n",
        "- `&` (intersection) conserve les éléments communs.\n",
        "\n",
        "- `-` (différence) conserve les éléments présents uniquement dans le premier ensemble.\n"
      ],
      "metadata": {
        "id": "eRI_chLBdnei"
      },
      "id": "eRI_chLBdnei"
    },
    {
      "cell_type": "markdown",
      "source": [
        "Exemple 3 : Vérification d’appartenance"
      ],
      "metadata": {
        "id": "wocDtnY2doq4"
      },
      "id": "wocDtnY2doq4"
    },
    {
      "cell_type": "code",
      "source": [
        "# Vérifier si un joueur a participé\n",
        "joueurs = {\"Kolbe\", \"Serin\", \"Rebbadj\"}\n",
        "print(\"Kolbe a-t-il joué ?\", \"Kolbe\" in joueurs)\n",
        "print(\"Belleau a-t-il joué ?\", \"Belleau\" in joueurs)\n"
      ],
      "metadata": {
        "colab": {
          "base_uri": "https://localhost:8080/"
        },
        "id": "Gqz3HQIrdpgI",
        "outputId": "145e5830-0078-4284-8703-236030bbb57e"
      },
      "id": "Gqz3HQIrdpgI",
      "execution_count": 61,
      "outputs": [
        {
          "output_type": "stream",
          "name": "stdout",
          "text": [
            "Kolbe a-t-il joué ? True\n",
            "Belleau a-t-il joué ? False\n"
          ]
        }
      ]
    },
    {
      "cell_type": "markdown",
      "source": [
        "**Explication :**  \n",
        "- L’opérateur `in` vérifie si un élément est présent dans l’ensemble."
      ],
      "metadata": {
        "id": "b3RVjVhvdrxp"
      },
      "id": "b3RVjVhvdrxp"
    },
    {
      "cell_type": "markdown",
      "source": [
        "#### Exercice 1 : Scores uniques\n",
        "\n",
        "Demandez aux étudiants d'extraire les scores uniques à partir d'une liste contenant des doublons.\n",
        "**Consigne :**\n",
        "1. Fournir une liste de scores avec des doublons.\n",
        "\n",
        "2. Convertir la liste en un ensemble pour éliminer les doublons.\n",
        "\n",
        "3. Afficher l’ensemble des scores uniques."
      ],
      "metadata": {
        "id": "Cu4qmFBbduJA"
      },
      "id": "Cu4qmFBbduJA"
    },
    {
      "cell_type": "code",
      "source": [
        "# Liste des scores\n",
        "scores = [25, 30, 30, 25, 40, 25]\n",
        "\n",
        "# Convertir en ensemble pour obtenir les scores uniques\n",
        "scores_uniques = set(scores)\n",
        "\n",
        "# Affichage\n",
        "print(\"Scores uniques :\", scores_uniques)\n"
      ],
      "metadata": {
        "colab": {
          "base_uri": "https://localhost:8080/"
        },
        "id": "H5yQNOuIdvC2",
        "outputId": "f01edfbe-a3df-4bd8-d0f3-ee99c13a1901"
      },
      "id": "H5yQNOuIdvC2",
      "execution_count": 62,
      "outputs": [
        {
          "output_type": "stream",
          "name": "stdout",
          "text": [
            "Scores uniques : {40, 25, 30}\n"
          ]
        }
      ]
    },
    {
      "cell_type": "markdown",
      "source": [
        "#### Exercice 2 : Joueurs ayant participé aux deux matchs\n",
        "\n",
        "Demandez aux étudiants de trouver les joueurs ayant participé à deux matchs différents.\n",
        "**Consigne :**\n",
        "1. Fournir deux ensembles contenant les joueurs de chaque match.\n",
        "\n",
        "2. Utiliser une opération d’intersection pour trouver les joueurs communs.\n",
        "\n",
        "3. Afficher le résultat."
      ],
      "metadata": {
        "id": "LlyGofyfdzw8"
      },
      "id": "LlyGofyfdzw8"
    },
    {
      "cell_type": "code",
      "source": [
        "# Joueurs des deux matchs\n",
        "joueurs_match1 = {\"Kolbe\", \"Serin\", \"Rebbadj\"}\n",
        "joueurs_match2 = {\"Kolbe\", \"Belleau\", \"Rebbadj\"}\n",
        "\n",
        "# Trouver les joueurs ayant participé aux deux matchs\n",
        "joueurs_communs = joueurs_match1 & joueurs_match2\n",
        "\n",
        "# Affichage\n",
        "print(\"Joueurs ayant participé aux deux matchs :\", joueurs_communs)\n"
      ],
      "metadata": {
        "colab": {
          "base_uri": "https://localhost:8080/"
        },
        "id": "67H88ZDud1a2",
        "outputId": "2a0fca06-d81d-4432-e53d-0b6eccca1183"
      },
      "id": "67H88ZDud1a2",
      "execution_count": 63,
      "outputs": [
        {
          "output_type": "stream",
          "name": "stdout",
          "text": [
            "Joueurs ayant participé aux deux matchs : {'Kolbe', 'Rebbadj'}\n"
          ]
        }
      ]
    },
    {
      "cell_type": "markdown",
      "id": "7a57ae44",
      "metadata": {
        "id": "7a57ae44"
      },
      "source": [
        "# Les dictionnaires (Dictionaries)"
      ]
    },
    {
      "cell_type": "markdown",
      "source": [
        "Les dictionnaires en Python sont des collections de paires clé-valeur. Ils permettent de représenter des données structurées comme des statistiques ou des informations personnelles."
      ],
      "metadata": {
        "id": "m0luQS_ad371"
      },
      "id": "m0luQS_ad371"
    },
    {
      "cell_type": "markdown",
      "source": [
        "Exemple 1 : Créer et accéder à un dictionnaire"
      ],
      "metadata": {
        "id": "8ZIOIxohd5bv"
      },
      "id": "8ZIOIxohd5bv"
    },
    {
      "cell_type": "code",
      "source": [
        "# Informations d'un joueur\n",
        "joueur = {\n",
        "    \"nom\": \"Kolbe\",\n",
        "    \"age\": 29,\n",
        "    \"vitesse\": 10.4\n",
        "}\n",
        "\n",
        "# Accéder aux valeurs\n",
        "print(f\"Nom : {joueur['nom']}\")\n",
        "print(f\"Âge : {joueur['age']}\")\n",
        "print(f\"Vitesse : {joueur['vitesse']} m/s\")\n"
      ],
      "metadata": {
        "colab": {
          "base_uri": "https://localhost:8080/"
        },
        "id": "DCFC3gZmd6H7",
        "outputId": "f5d9422d-98b8-4324-c698-03869e28bba9"
      },
      "id": "DCFC3gZmd6H7",
      "execution_count": 64,
      "outputs": [
        {
          "output_type": "stream",
          "name": "stdout",
          "text": [
            "Nom : Kolbe\n",
            "Âge : 29\n",
            "Vitesse : 10.4 m/s\n"
          ]
        }
      ]
    },
    {
      "cell_type": "markdown",
      "source": [
        "**Explication :**\n",
        "- Les clés permettent d’accéder rapidement aux valeurs associées.\n",
        "\n",
        "- Les clés doivent être uniques."
      ],
      "metadata": {
        "id": "IKx7vSPPd8iT"
      },
      "id": "IKx7vSPPd8iT"
    },
    {
      "cell_type": "markdown",
      "source": [
        "Exemple 2 : Ajouter ou mettre à jour des entrées"
      ],
      "metadata": {
        "id": "pUsF0Z5Bd-kI"
      },
      "id": "pUsF0Z5Bd-kI"
    },
    {
      "cell_type": "code",
      "source": [
        "# Ajouter une statistique\n",
        "joueur[\"essais\"] = 20\n",
        "print(\"Statistiques mises à jour :\", joueur)\n",
        "\n",
        "# Modifier une valeur existante\n",
        "joueur[\"vitesse\"] = 10.6\n",
        "print(\"Vitesse mise à jour :\", joueur)\n"
      ],
      "metadata": {
        "colab": {
          "base_uri": "https://localhost:8080/"
        },
        "id": "gjgArsW3d_SV",
        "outputId": "7b5eb666-f059-4fb6-ef62-8747bc27a6e6"
      },
      "id": "gjgArsW3d_SV",
      "execution_count": 65,
      "outputs": [
        {
          "output_type": "stream",
          "name": "stdout",
          "text": [
            "Statistiques mises à jour : {'nom': 'Kolbe', 'age': 29, 'vitesse': 10.4, 'essais': 20}\n",
            "Vitesse mise à jour : {'nom': 'Kolbe', 'age': 29, 'vitesse': 10.6, 'essais': 20}\n"
          ]
        }
      ]
    },
    {
      "cell_type": "markdown",
      "source": [
        "**Explication :**  \n",
        "- Ajouter ou modifier une entrée se fait via `dictionnaire[clé] = valeur`."
      ],
      "metadata": {
        "id": "TFxQBrs6eBSB"
      },
      "id": "TFxQBrs6eBSB"
    },
    {
      "cell_type": "markdown",
      "source": [
        "Exemple 3 : Itérer sur un dictionnaire"
      ],
      "metadata": {
        "id": "FnaQINwueGTn"
      },
      "id": "FnaQINwueGTn"
    },
    {
      "cell_type": "code",
      "source": [
        "# Parcourir les clés et valeurs\n",
        "for clé, valeur in joueur.items():\n",
        "    print(f\"{clé.capitalize()} : {valeur}\")\n"
      ],
      "metadata": {
        "colab": {
          "base_uri": "https://localhost:8080/"
        },
        "id": "fOmeNr08eETG",
        "outputId": "51bbd007-7508-46f3-c0c7-6c3c385c840c"
      },
      "id": "fOmeNr08eETG",
      "execution_count": 66,
      "outputs": [
        {
          "output_type": "stream",
          "name": "stdout",
          "text": [
            "Nom : Kolbe\n",
            "Age : 29\n",
            "Vitesse : 10.6\n",
            "Essais : 20\n"
          ]
        }
      ]
    },
    {
      "cell_type": "markdown",
      "source": [
        "**Explication :**  \n",
        "- `.items()` retourne des paires `(clé, valeur)` pour itérer facilement."
      ],
      "metadata": {
        "id": "JGm7qyGPeKZE"
      },
      "id": "JGm7qyGPeKZE"
    },
    {
      "cell_type": "markdown",
      "source": [
        "Exemple 4 : Dictionnaires imbriqués"
      ],
      "metadata": {
        "id": "MzhogwI7eNG4"
      },
      "id": "MzhogwI7eNG4"
    },
    {
      "cell_type": "code",
      "source": [
        "# Informations pour plusieurs joueurs\n",
        "equipe = {\n",
        "    \"Kolbe\": {\"vitesse\": 10.4, \"essais\": 20},\n",
        "    \"Serin\": {\"vitesse\": 9.2, \"essais\": 15}\n",
        "}\n",
        "\n",
        "# Accéder aux informations de Kolbe\n",
        "print(f\"Statistiques de Kolbe : {equipe['Kolbe']}\")\n",
        "print(f\"Vitesse de Kolbe : {equipe['Kolbe']['vitesse']} m/s\")\n"
      ],
      "metadata": {
        "colab": {
          "base_uri": "https://localhost:8080/"
        },
        "id": "jBzHr1AHeN9N",
        "outputId": "97a108a7-e5ae-49ca-fcf3-f17fb94f6d9f"
      },
      "id": "jBzHr1AHeN9N",
      "execution_count": 67,
      "outputs": [
        {
          "output_type": "stream",
          "name": "stdout",
          "text": [
            "Statistiques de Kolbe : {'vitesse': 10.4, 'essais': 20}\n",
            "Vitesse de Kolbe : 10.4 m/s\n"
          ]
        }
      ]
    },
    {
      "cell_type": "markdown",
      "source": [
        "**Explication :**\n",
        "- Les dictionnaires peuvent contenir d'autres dictionnaires pour des structures plus complexes."
      ],
      "metadata": {
        "id": "-_qhYSCnePyh"
      },
      "id": "-_qhYSCnePyh"
    },
    {
      "cell_type": "markdown",
      "source": [
        "#### Exercice 1 : Créer un dictionnaire de joueurs\n",
        "\n",
        "Demandez aux étudiants de créer un dictionnaire contenant les noms des joueurs comme clés et leurs scores comme valeurs.\n",
        "**Consigne :**\n",
        "1. Demandez de saisir les noms et scores de 3 joueurs.\n",
        "\n",
        "2. Stockez les informations dans un dictionnaire.\n",
        "\n",
        "3. Affichez le dictionnaire."
      ],
      "metadata": {
        "id": "NuiwVd1HeTJj"
      },
      "id": "NuiwVd1HeTJj"
    },
    {
      "cell_type": "code",
      "source": [
        "# Saisie des joueurs et scores\n",
        "joueurs = {}\n",
        "for _ in range(3):\n",
        "    nom = input(\"Entrez le nom du joueur : \")\n",
        "    score = int(input(f\"Entrez le score de {nom} : \"))\n",
        "    joueurs[nom] = score\n",
        "\n",
        "# Affichage\n",
        "print(\"Dictionnaire des joueurs :\", joueurs)\n"
      ],
      "metadata": {
        "colab": {
          "base_uri": "https://localhost:8080/"
        },
        "id": "PleRCtVCeUrL",
        "outputId": "828326ea-9a1c-467e-dd5e-0570e9d93a90"
      },
      "id": "PleRCtVCeUrL",
      "execution_count": 68,
      "outputs": [
        {
          "output_type": "stream",
          "name": "stdout",
          "text": [
            "Entrez le nom du joueur : Zidane\n",
            "Entrez le score de Zidane : 10\n",
            "Entrez le nom du joueur : Giroud\n",
            "Entrez le score de Giroud : 7\n",
            "Entrez le nom du joueur : Luccin\n",
            "Entrez le score de Luccin : 11\n",
            "Dictionnaire des joueurs : {'Zidane': 10, 'Giroud': 7, 'Luccin': 11}\n"
          ]
        }
      ]
    },
    {
      "cell_type": "markdown",
      "source": [
        "#### Exercice 2 : Calculer la moyenne des scores\n",
        "\n",
        "Demandez aux étudiants de calculer la moyenne des scores dans un dictionnaire.\n",
        "**Consigne :**\n",
        "1. Fournissez un dictionnaire avec des noms de joueurs et leurs scores.\n",
        "\n",
        "2. Utilisez `.values()` pour accéder aux scores.\n",
        "\n",
        "3. Calculez et affichez la moyenne."
      ],
      "metadata": {
        "id": "8PvcvzCueX9a"
      },
      "id": "8PvcvzCueX9a"
    },
    {
      "cell_type": "code",
      "source": [
        "# Dictionnaire des scores\n",
        "scores = {\n",
        "    \"Kolbe\": 20,\n",
        "    \"Serin\": 15,\n",
        "    \"Rebbadj\": 10\n",
        "}\n",
        "\n",
        "# Calcul de la moyenne\n",
        "moyenne = sum(scores.values()) / len(scores)\n",
        "print(f\"Moyenne des scores : {moyenne}\")\n"
      ],
      "metadata": {
        "colab": {
          "base_uri": "https://localhost:8080/"
        },
        "id": "TdeWfAjjeYiG",
        "outputId": "d7495c53-b98b-41ca-8124-89904c8bc472"
      },
      "id": "TdeWfAjjeYiG",
      "execution_count": 69,
      "outputs": [
        {
          "output_type": "stream",
          "name": "stdout",
          "text": [
            "Moyenne des scores : 15.0\n"
          ]
        }
      ]
    },
    {
      "cell_type": "markdown",
      "id": "eb68cf6b",
      "metadata": {
        "id": "eb68cf6b"
      },
      "source": [
        "# Techniques de boucles avancées"
      ]
    },
    {
      "cell_type": "markdown",
      "source": [
        "Les boucles en Python permettent de parcourir des structures comme des listes ou des dictionnaires. Cette section explore des techniques avancées pour des itérations efficaces.\n",
        "\n"
      ],
      "metadata": {
        "id": "JtS1OQ8Zed6n"
      },
      "id": "JtS1OQ8Zed6n"
    },
    {
      "cell_type": "markdown",
      "source": [
        "\n",
        "\n",
        "Exemple 1 : Boucles avec indices (enumerate)"
      ],
      "metadata": {
        "id": "Ouqdr3g7ee-M"
      },
      "id": "Ouqdr3g7ee-M"
    },
    {
      "cell_type": "code",
      "source": [
        "# Liste des joueurs\n",
        "equipe = [\"Kolbe\", \"Serin\", \"Rebbadj\"]\n",
        "\n",
        "# Utiliser enumerate pour avoir l'index\n",
        "for index, joueur in enumerate(equipe, start=1):\n",
        "    print(f\"{index}. {joueur}\")\n"
      ],
      "metadata": {
        "colab": {
          "base_uri": "https://localhost:8080/"
        },
        "id": "1l09qVruelPr",
        "outputId": "23d09fb5-75bc-468a-f022-02e456bd44eb"
      },
      "id": "1l09qVruelPr",
      "execution_count": 70,
      "outputs": [
        {
          "output_type": "stream",
          "name": "stdout",
          "text": [
            "1. Kolbe\n",
            "2. Serin\n",
            "3. Rebbadj\n"
          ]
        }
      ]
    },
    {
      "cell_type": "markdown",
      "source": [
        "**Explication :**  \n",
        "- `enumerate()` fournit l’indice et l’élément dans une boucle.\n",
        "\n",
        "- Le paramètre `start=1` permet de commencer la numérotation à 1 (par défaut, c’est 0)."
      ],
      "metadata": {
        "id": "HWaDFp0leoo4"
      },
      "id": "HWaDFp0leoo4"
    },
    {
      "cell_type": "markdown",
      "source": [
        "Exemple 2 : Itérer sur deux listes simultanément (zip)"
      ],
      "metadata": {
        "id": "_5lzIvDKerr-"
      },
      "id": "_5lzIvDKerr-"
    },
    {
      "cell_type": "code",
      "source": [
        "# Liste des joueurs et leurs scores\n",
        "joueurs = [\"Kolbe\", \"Serin\", \"Rebbadj\"]\n",
        "scores = [20, 15, 10]\n",
        "\n",
        "# Associer chaque joueur à son score\n",
        "for joueur, score in zip(joueurs, scores):\n",
        "    print(f\"{joueur} a marqué {score} points.\")\n"
      ],
      "metadata": {
        "colab": {
          "base_uri": "https://localhost:8080/"
        },
        "id": "ffiIrp39esx2",
        "outputId": "180649b0-de31-4ddb-c614-fd42e1b160bf"
      },
      "id": "ffiIrp39esx2",
      "execution_count": 71,
      "outputs": [
        {
          "output_type": "stream",
          "name": "stdout",
          "text": [
            "Kolbe a marqué 20 points.\n",
            "Serin a marqué 15 points.\n",
            "Rebbadj a marqué 10 points.\n"
          ]
        }
      ]
    },
    {
      "cell_type": "markdown",
      "source": [
        "**Explication :**  \n",
        "- `zip()` combine plusieurs listes pour itérer sur leurs éléments correspondants.\n"
      ],
      "metadata": {
        "id": "qK_r0rzteu6O"
      },
      "id": "qK_r0rzteu6O"
    },
    {
      "cell_type": "markdown",
      "source": [
        "Exemple 3 : Itération conditionnelle avec continue et break"
      ],
      "metadata": {
        "id": "EEzDuVddewuQ"
      },
      "id": "EEzDuVddewuQ"
    },
    {
      "cell_type": "code",
      "source": [
        "# Scores des joueurs\n",
        "scores = [20, 15, 25, 10, 30]\n",
        "\n",
        "# Parcourir les scores avec des conditions\n",
        "for score in scores:\n",
        "    if score < 15:\n",
        "        continue  # Ignorer les scores inférieurs à 15\n",
        "    if score > 25:\n",
        "        break  # Arrêter la boucle si le score est supérieur à 25\n",
        "    print(f\"Score accepté : {score}\")\n"
      ],
      "metadata": {
        "colab": {
          "base_uri": "https://localhost:8080/"
        },
        "id": "x2s5lrJ4exm3",
        "outputId": "c02ef96d-4661-4955-b096-8ac3ae2e92db"
      },
      "id": "x2s5lrJ4exm3",
      "execution_count": 72,
      "outputs": [
        {
          "output_type": "stream",
          "name": "stdout",
          "text": [
            "Score accepté : 20\n",
            "Score accepté : 15\n",
            "Score accepté : 25\n"
          ]
        }
      ]
    },
    {
      "cell_type": "markdown",
      "source": [
        "**Explication :**  \n",
        "- `continue` saute à l’itération suivante.\n",
        "\n",
        "- `break` arrête complètement la boucle."
      ],
      "metadata": {
        "id": "czQ1BaPoezqt"
      },
      "id": "czQ1BaPoezqt"
    },
    {
      "cell_type": "markdown",
      "source": [
        "#### Exercice 1 : Afficher les indices et scores\n",
        "\n",
        "Demandez aux étudiants d’afficher les indices (commençant à 1) et les scores d’une liste.\n",
        "**Consigne :**\n",
        "1. Fournissez une liste de scores.\n",
        "\n",
        "2. Affichez chaque score avec son indice.\n",
        "\n",
        "3. Utilisez `enumerate()`."
      ],
      "metadata": {
        "id": "XpZDybnVe2BS"
      },
      "id": "XpZDybnVe2BS"
    },
    {
      "cell_type": "code",
      "source": [
        "# Liste des scores\n",
        "scores = [15, 20, 25, 30]\n",
        "\n",
        "# Afficher les scores avec leurs indices\n",
        "for index, score in enumerate(scores, start=1):\n",
        "    print(f\"Score {index} : {score}\")\n"
      ],
      "metadata": {
        "colab": {
          "base_uri": "https://localhost:8080/"
        },
        "id": "Sgyu1tiJe3_X",
        "outputId": "20cbb1e6-b132-484f-89ba-543fe1af416d"
      },
      "id": "Sgyu1tiJe3_X",
      "execution_count": 73,
      "outputs": [
        {
          "output_type": "stream",
          "name": "stdout",
          "text": [
            "Score 1 : 15\n",
            "Score 2 : 20\n",
            "Score 3 : 25\n",
            "Score 4 : 30\n"
          ]
        }
      ]
    },
    {
      "cell_type": "markdown",
      "source": [
        "#### Exercice 2 : Trouver le joueur avec le meilleur score\n",
        "\n",
        "Demandez aux étudiants d’identifier le joueur ayant le score le plus élevé.\n",
        "**Consigne :**\n",
        "1. Fournissez deux listes : une pour les joueurs et une pour leurs scores.\n",
        "\n",
        "2. Utilisez une boucle pour trouver le meilleur score et le joueur associé.\n",
        "\n",
        "3. Affichez le résultat."
      ],
      "metadata": {
        "id": "wGLcOSYxe6e2"
      },
      "id": "wGLcOSYxe6e2"
    },
    {
      "cell_type": "code",
      "source": [
        "# Joueurs et leurs scores\n",
        "joueurs = [\"Kolbe\", \"Serin\", \"Rebbadj\"]\n",
        "scores = [20, 15, 30]\n",
        "\n",
        "# Trouver le joueur avec le meilleur score\n",
        "meilleur_score = max(scores)\n",
        "joueur_gagnant = joueurs[scores.index(meilleur_score)]\n",
        "\n",
        "# Affichage\n",
        "print(f\"Le meilleur score est {meilleur_score}, obtenu par {joueur_gagnant}.\")\n"
      ],
      "metadata": {
        "colab": {
          "base_uri": "https://localhost:8080/"
        },
        "id": "yd5M4Dj-e7rM",
        "outputId": "5be71c12-3eaa-4c6a-8040-6e7aba24c82b"
      },
      "id": "yd5M4Dj-e7rM",
      "execution_count": 74,
      "outputs": [
        {
          "output_type": "stream",
          "name": "stdout",
          "text": [
            "Le meilleur score est 30, obtenu par Rebbadj.\n"
          ]
        }
      ]
    },
    {
      "cell_type": "markdown",
      "source": [
        "**Explication :**  \n",
        "- `max(scores)` trouve le score maximal.\n",
        "\n",
        "- `.index()` récupère l’indice de ce score pour identifier le joueur."
      ],
      "metadata": {
        "id": "GtTxCDRue9u3"
      },
      "id": "GtTxCDRue9u3"
    },
    {
      "cell_type": "markdown",
      "source": [
        "Solution alternative à l'Exercice 2 : Trouver le joueur avec le meilleur score\n",
        "Cette solution utilise une boucle pour parcourir les scores et déterminer le joueur avec le meilleur score, sans utiliser max() ou .index()."
      ],
      "metadata": {
        "id": "q4DKxhOne_zq"
      },
      "id": "q4DKxhOne_zq"
    },
    {
      "cell_type": "code",
      "source": [
        "# Joueurs et leurs scores\n",
        "joueurs = [\"Kolbe\", \"Serin\", \"Rebbadj\"]\n",
        "scores = [20, 15, 30]\n",
        "\n",
        "# Initialisation des variables\n",
        "meilleur_score = 0\n",
        "joueur_gagnant = \"\"\n",
        "\n",
        "# Parcourir les joueurs et leurs scores\n",
        "for i in range(len(scores)):\n",
        "    if scores[i] > meilleur_score:\n",
        "        meilleur_score = scores[i]\n",
        "        joueur_gagnant = joueurs[i]\n",
        "\n",
        "# Affichage\n",
        "print(f\"Le meilleur score est {meilleur_score}, obtenu par {joueur_gagnant}.\")\n"
      ],
      "metadata": {
        "colab": {
          "base_uri": "https://localhost:8080/"
        },
        "id": "fsz34PuZfBPh",
        "outputId": "524e5320-4a09-4d64-c20d-8a1131a730ee"
      },
      "id": "fsz34PuZfBPh",
      "execution_count": 75,
      "outputs": [
        {
          "output_type": "stream",
          "name": "stdout",
          "text": [
            "Le meilleur score est 30, obtenu par Rebbadj.\n"
          ]
        }
      ]
    },
    {
      "cell_type": "markdown",
      "source": [
        "#### Explication\n",
        "\n",
        "1. **Initialisation**  :\n",
        "  - `meilleur_score` est initialisé à 0.\n",
        "\n",
        "  - `joueur_gagnant` est une chaîne vide.\n",
        "\n",
        "2. **Parcours avec une boucle**  :\n",
        "  - La boucle parcourt les indices des listes `scores` et `joueurs`.\n",
        "\n",
        "  - Si le score actuel est supérieur à `meilleur_score`, il devient le nouveau meilleur score.\n",
        "\n",
        "  - Le joueur correspondant est mis à jour dans `joueur_gagnant`.\n",
        "\n",
        "3. **Résultat**  :\n",
        "  - À la fin de la boucle, `meilleur_score` contient le score maximal, et `joueur_gagnant` contient le nom du joueur correspondant."
      ],
      "metadata": {
        "id": "drwmiNwwfGN-"
      },
      "id": "drwmiNwwfGN-"
    },
    {
      "cell_type": "markdown",
      "id": "0e9dd387",
      "metadata": {
        "id": "0e9dd387"
      },
      "source": [
        "# Correspondance de motifs dans les chaînes (String Pattern Matching)"
      ]
    },
    {
      "cell_type": "markdown",
      "source": [
        "La correspondance de motifs permet de rechercher des schémas spécifiques dans une chaîne de caractères, comme des scores, des dates ou des noms d’équipes, en utilisant des expressions régulières."
      ],
      "metadata": {
        "id": "gfeHdAIdfJvg"
      },
      "id": "gfeHdAIdfJvg"
    },
    {
      "cell_type": "markdown",
      "source": [
        "Exemple 1 : Rechercher un score dans une chaîne"
      ],
      "metadata": {
        "id": "YNS2qWs1fLND"
      },
      "id": "YNS2qWs1fLND"
    },
    {
      "cell_type": "code",
      "source": [
        "import re\n",
        "\n",
        "# Chaîne contenant un score\n",
        "texte = \"Le score final était 18-15.\"\n",
        "\n",
        "# Motif pour détecter un score au format 'xx-xx'\n",
        "motif = r\"\\d{1,2}-\\d{1,2}\"\n",
        "\n",
        "# Rechercher le motif\n",
        "score = re.search(motif, texte)\n",
        "if score:\n",
        "    print(f\"Score trouvé : {score.group()}\")\n"
      ],
      "metadata": {
        "colab": {
          "base_uri": "https://localhost:8080/"
        },
        "id": "pmwSiuWxfL_-",
        "outputId": "82eacd93-fc13-492e-c437-056c200fbd3a"
      },
      "id": "pmwSiuWxfL_-",
      "execution_count": 76,
      "outputs": [
        {
          "output_type": "stream",
          "name": "stdout",
          "text": [
            "Score trouvé : 18-15\n"
          ]
        }
      ]
    },
    {
      "cell_type": "markdown",
      "source": [
        "**Explication :**  \n",
        "- `\\d{1,2}` correspond à un ou deux chiffres.\n",
        "\n",
        "- `-` correspond littéralement au tiret.\n",
        "\n",
        "- `.group()` retourne la partie correspondante de la chaîne.\n"
      ],
      "metadata": {
        "id": "77Mtwii9fOB_"
      },
      "id": "77Mtwii9fOB_"
    },
    {
      "cell_type": "markdown",
      "source": [
        "Exemple 2 : Trouver plusieurs scores dans un texte"
      ],
      "metadata": {
        "id": "oJ6HhPjlfPNb"
      },
      "id": "oJ6HhPjlfPNb"
    },
    {
      "cell_type": "code",
      "source": [
        "import re\n",
        "\n",
        "# Texte avec plusieurs scores\n",
        "texte = \"Les scores étaient 18-15, 22-10, et 30-25.\"\n",
        "\n",
        "# Motif pour détecter tous les scores\n",
        "motif = r\"\\d{1,2}-\\d{1,2}\"\n",
        "\n",
        "# Trouver tous les scores\n",
        "scores = re.findall(motif, texte)\n",
        "print(f\"Scores trouvés : {scores}\")\n"
      ],
      "metadata": {
        "colab": {
          "base_uri": "https://localhost:8080/"
        },
        "id": "_vDxR0MWfRH1",
        "outputId": "b159f203-ef71-400b-8f95-1ea7294e7749"
      },
      "id": "_vDxR0MWfRH1",
      "execution_count": 77,
      "outputs": [
        {
          "output_type": "stream",
          "name": "stdout",
          "text": [
            "Scores trouvés : ['18-15', '22-10', '30-25']\n"
          ]
        }
      ]
    },
    {
      "cell_type": "markdown",
      "source": [
        "**Explication :**  \n",
        "- `re.findall()` retourne toutes les correspondances dans une liste."
      ],
      "metadata": {
        "id": "i1sIqJxPfTqy"
      },
      "id": "i1sIqJxPfTqy"
    },
    {
      "cell_type": "markdown",
      "source": [
        "Exemple 3 : Vérifier un format spécifique"
      ],
      "metadata": {
        "id": "CRoGfe8qfU-W"
      },
      "id": "CRoGfe8qfU-W"
    },
    {
      "cell_type": "code",
      "source": [
        "import re\n",
        "\n",
        "# Chaîne contenant une heure\n",
        "texte = \"Le match commence à 15:30.\"\n",
        "\n",
        "# Motif pour détecter un horaire au format 'hh:mm'\n",
        "motif = r\"\\b\\d{1,2}:\\d{2}\\b\"\n",
        "\n",
        "# Vérifier si le format est présent\n",
        "horaire = re.search(motif, texte)\n",
        "if horaire:\n",
        "    print(f\"Horaire trouvé : {horaire.group()}\")\n",
        "else:\n",
        "    print(\"Pas d'horaire trouvé.\")\n"
      ],
      "metadata": {
        "colab": {
          "base_uri": "https://localhost:8080/"
        },
        "id": "prQi7-QdfVqJ",
        "outputId": "b44e459e-3ad1-403d-bbfa-b0c2a646adb7"
      },
      "id": "prQi7-QdfVqJ",
      "execution_count": 78,
      "outputs": [
        {
          "output_type": "stream",
          "name": "stdout",
          "text": [
            "Horaire trouvé : 15:30\n"
          ]
        }
      ]
    },
    {
      "cell_type": "markdown",
      "source": [
        "**Explication :**  \n",
        "- `\\b` correspond à une limite de mot (début ou fin d’un mot).\n",
        "\n",
        "- `\\d{2}` correspond à exactement deux chiffres."
      ],
      "metadata": {
        "id": "hMmf0-7bfYD7"
      },
      "id": "hMmf0-7bfYD7"
    },
    {
      "cell_type": "markdown",
      "source": [
        "#### Exercice 1 : Extraire les noms des équipes\n",
        "\n",
        "Demandez aux étudiants d'extraire les noms des équipes mentionnées dans une phrase.\n",
        "**Consigne :**\n",
        "1. Fournir une chaîne contenant plusieurs noms d’équipes.\n",
        "\n",
        "2. Utilisez un motif pour extraire les noms qui commencent par une majuscule."
      ],
      "metadata": {
        "id": "0umxWR1vfaUe"
      },
      "id": "0umxWR1vfaUe"
    },
    {
      "cell_type": "markdown",
      "source": [
        "Solution"
      ],
      "metadata": {
        "id": "TSsNX77rfd0r"
      },
      "id": "TSsNX77rfd0r"
    },
    {
      "cell_type": "code",
      "source": [
        "import re\n",
        "\n",
        "# Texte contenant des noms d'équipes\n",
        "texte = \"Les équipes RCT, Toulon et Marseille participent au tournoi.\"\n",
        "\n",
        "# Motif pour détecter les mots commençant par une majuscule\n",
        "motif = r\"\\b[A-Z][a-z]+\\b\"\n",
        "\n",
        "# Trouver tous les noms\n",
        "equipes = re.findall(motif, texte)\n",
        "print(f\"Noms des équipes : {equipes}\")"
      ],
      "metadata": {
        "colab": {
          "base_uri": "https://localhost:8080/"
        },
        "id": "1mhT-ZcYfa1S",
        "outputId": "902c34fb-72e5-4ad4-8d98-f51e0507cb6e"
      },
      "id": "1mhT-ZcYfa1S",
      "execution_count": 79,
      "outputs": [
        {
          "output_type": "stream",
          "name": "stdout",
          "text": [
            "Noms des équipes : ['Les', 'Toulon', 'Marseille']\n"
          ]
        }
      ]
    },
    {
      "cell_type": "markdown",
      "source": [
        "#### Exercice 2 : Valider des formats de score\n",
        "\n",
        "Demandez aux étudiants de vérifier si une chaîne contient un score valide.\n",
        "**Consigne :**\n",
        "1. Fournir une liste de chaînes avec des scores potentiels.\n",
        "\n",
        "2. Vérifiez si chaque chaîne contient un score au format `xx-xx`.\n",
        "\n",
        "3. Affichez les résultats."
      ],
      "metadata": {
        "id": "mLCDF15JfiEX"
      },
      "id": "mLCDF15JfiEX"
    },
    {
      "cell_type": "markdown",
      "source": [
        "Solution"
      ],
      "metadata": {
        "id": "pYb4RtWXfj6D"
      },
      "id": "pYb4RtWXfj6D"
    },
    {
      "cell_type": "markdown",
      "source": [
        "import re\n",
        "\n",
        "# Liste de chaînes avec des scores potentiels\n",
        "chaines = [\"Score : 18-15\", \"Résultat : 22-10\", \"Pas de score ici\"]\n",
        "\n",
        "# Motif pour détecter un score\n",
        "motif = r\"\\d{1,2}-\\d{1,2}\"\n",
        "\n",
        "# Vérifier chaque chaîne\n",
        "for chaine in chaines:\n",
        "    if re.search(motif, chaine):\n",
        "        print(f\"Score valide trouvé dans : {chaine}\")\n",
        "    else:\n",
        "        print(f\"Aucun score trouvé dans : {chaine}\")"
      ],
      "metadata": {
        "id": "vS_q5MBjflsI"
      },
      "id": "vS_q5MBjflsI"
    },
    {
      "cell_type": "markdown",
      "id": "949e192f",
      "metadata": {
        "id": "949e192f"
      },
      "source": [
        "# Instructions conditionnelles"
      ]
    },
    {
      "cell_type": "markdown",
      "source": [
        "Les instructions conditionnelles permettent d'exécuter du code en fonction de certaines conditions."
      ],
      "metadata": {
        "id": "mlqMrknQfo50"
      },
      "id": "mlqMrknQfo50"
    },
    {
      "cell_type": "markdown",
      "source": [
        "Exemple 1 : Vérifier un score"
      ],
      "metadata": {
        "id": "btJ1iMrcfrGp"
      },
      "id": "btJ1iMrcfrGp"
    },
    {
      "cell_type": "code",
      "source": [
        "# Score d'une équipe\n",
        "score = 18\n",
        "\n",
        "# Vérification de la condition\n",
        "if score > 20:\n",
        "    print(\"Le score est élevé.\")\n",
        "else:\n",
        "    print(\"Le score est faible.\")\n"
      ],
      "metadata": {
        "colab": {
          "base_uri": "https://localhost:8080/"
        },
        "id": "H0-BfJR_fqMu",
        "outputId": "3cfcc731-0cdc-43ae-b86f-3fa7b62c18da"
      },
      "id": "H0-BfJR_fqMu",
      "execution_count": 80,
      "outputs": [
        {
          "output_type": "stream",
          "name": "stdout",
          "text": [
            "Le score est faible.\n"
          ]
        }
      ]
    },
    {
      "cell_type": "markdown",
      "source": [
        "**Explication :**  \n",
        "- `if` vérifie une condition.\n",
        "\n",
        "- `else` s’exécute lorsque la condition de `if` n’est pas remplie."
      ],
      "metadata": {
        "id": "MMPxRwyVftKh"
      },
      "id": "MMPxRwyVftKh"
    },
    {
      "cell_type": "markdown",
      "source": [
        "Exemple 2 : Analyser une performance avec elif"
      ],
      "metadata": {
        "id": "BtuMRnMpfvxK"
      },
      "id": "BtuMRnMpfvxK"
    },
    {
      "cell_type": "code",
      "source": [
        "# Vitesse d'un joueur\n",
        "vitesse = 8.5\n",
        "\n",
        "# Analyse de la performance\n",
        "if vitesse > 9.0:\n",
        "    print(\"Joueur rapide !\")\n",
        "elif vitesse > 7.5:\n",
        "    print(\"Performance moyenne.\")\n",
        "else:\n",
        "    print(\"Besoin d'amélioration.\")\n"
      ],
      "metadata": {
        "colab": {
          "base_uri": "https://localhost:8080/"
        },
        "id": "YKXJ0AJafyB5",
        "outputId": "3d8f720f-dcd1-4799-e97b-8260b695fd5a"
      },
      "id": "YKXJ0AJafyB5",
      "execution_count": 81,
      "outputs": [
        {
          "output_type": "stream",
          "name": "stdout",
          "text": [
            "Performance moyenne.\n"
          ]
        }
      ]
    },
    {
      "cell_type": "markdown",
      "source": [
        "**Explication :**  \n",
        "- `elif` permet d’ajouter des conditions intermédiaires.\n",
        "\n",
        "- Python évalue chaque condition dans l’ordre jusqu’à ce qu’une soit vraie."
      ],
      "metadata": {
        "id": "psOItT1Ifz0u"
      },
      "id": "psOItT1Ifz0u"
    },
    {
      "cell_type": "markdown",
      "source": [
        "Exemple 3 : Vérifier plusieurs conditions avec des opérateurs logiques"
      ],
      "metadata": {
        "id": "ih9KWrPAf1tf"
      },
      "id": "ih9KWrPAf1tf"
    },
    {
      "cell_type": "code",
      "source": [
        "# Statistiques d'un joueur\n",
        "vitesse = 8.5\n",
        "essais = 15\n",
        "\n",
        "# Vérification des conditions combinées\n",
        "if vitesse > 9.0 and essais > 10:\n",
        "    print(\"Excellent joueur.\")\n",
        "elif vitesse > 8.0 or essais > 12:\n",
        "    print(\"Bon joueur.\")\n",
        "else:\n",
        "    print(\"Joueur moyen.\")\n"
      ],
      "metadata": {
        "colab": {
          "base_uri": "https://localhost:8080/"
        },
        "id": "RHP1YTZgf2l0",
        "outputId": "f0a6886f-7957-474a-f6ff-09b53dedfedc"
      },
      "id": "RHP1YTZgf2l0",
      "execution_count": 82,
      "outputs": [
        {
          "output_type": "stream",
          "name": "stdout",
          "text": [
            "Bon joueur.\n"
          ]
        }
      ]
    },
    {
      "cell_type": "markdown",
      "source": [
        "**Explication :**  \n",
        "- `and` nécessite que toutes les conditions soient vraies.\n",
        "\n",
        "- `or` nécessite qu’au moins une condition soit vraie."
      ],
      "metadata": {
        "id": "_5YHygEcf-nG"
      },
      "id": "_5YHygEcf-nG"
    },
    {
      "cell_type": "markdown",
      "source": [
        "#### Exercice 1 : Classifier les IMC\n",
        "\n",
        "Demandez aux étudiants de classifier les IMC en catégories : sous-poids, poids normal ou surpoids.\n",
        "**Consigne :**\n",
        "1. Fournir un IMC calculé.\n",
        "\n",
        "2. Utilisez des instructions conditionnelles pour classer l'IMC.\n",
        "\n",
        "3. Affichez la catégorie."
      ],
      "metadata": {
        "id": "GezfsEWGgAqg"
      },
      "id": "GezfsEWGgAqg"
    },
    {
      "cell_type": "code",
      "source": [
        "# IMC d'une personne\n",
        "imc = 22.5\n",
        "\n",
        "# Classification de l'IMC\n",
        "if imc < 18.5:\n",
        "    print(\"Sous-poids.\")\n",
        "elif imc <= 24.9:\n",
        "    print(\"Poids normal.\")\n",
        "else:\n",
        "    print(\"Surpoids.\")\n"
      ],
      "metadata": {
        "colab": {
          "base_uri": "https://localhost:8080/"
        },
        "id": "BhL2Bd-agCg9",
        "outputId": "d53d0c8e-e104-43aa-c06b-e2b6f1735743"
      },
      "id": "BhL2Bd-agCg9",
      "execution_count": 83,
      "outputs": [
        {
          "output_type": "stream",
          "name": "stdout",
          "text": [
            "Poids normal.\n"
          ]
        }
      ]
    },
    {
      "cell_type": "markdown",
      "source": [
        "Demandez aux étudiants de déterminer si un joueur est éligible pour un match en fonction de sa vitesse et de son âge.\n",
        "**Consigne :**\n",
        "1. Fournir une vitesse et un âge.\n",
        "\n",
        "2. Vérifiez que la vitesse est supérieure à 8.0 et que l’âge est inférieur à 30.\n",
        "\n",
        "3. Affichez si le joueur est éligible ou non."
      ],
      "metadata": {
        "id": "N4rDQZljgE3_"
      },
      "id": "N4rDQZljgE3_"
    },
    {
      "cell_type": "code",
      "source": [
        "# Informations du joueur\n",
        "vitesse = 8.5\n",
        "age = 29\n",
        "\n",
        "# Vérification de l'éligibilité\n",
        "if vitesse > 8.0 and age < 30:\n",
        "    print(\"Le joueur est éligible.\")\n",
        "else:\n",
        "    print(\"Le joueur n'est pas éligible.\")\n"
      ],
      "metadata": {
        "colab": {
          "base_uri": "https://localhost:8080/"
        },
        "id": "Pglq-sHHgI-f",
        "outputId": "e69748a9-aa04-4faf-9a2e-c8d1fc2b4758"
      },
      "id": "Pglq-sHHgI-f",
      "execution_count": 84,
      "outputs": [
        {
          "output_type": "stream",
          "name": "stdout",
          "text": [
            "Le joueur est éligible.\n"
          ]
        }
      ]
    },
    {
      "cell_type": "markdown",
      "id": "91cc60a5",
      "metadata": {
        "id": "91cc60a5"
      },
      "source": [
        "# Les boucles"
      ]
    },
    {
      "cell_type": "markdown",
      "source": [
        "Les boucles permettent d'exécuter une série d'instructions plusieurs fois, facilitant la manipulation de grandes quantités de données."
      ],
      "metadata": {
        "id": "svLxMEPpgRCb"
      },
      "id": "svLxMEPpgRCb"
    },
    {
      "cell_type": "markdown",
      "source": [
        "Exemple 1 : Parcourir une liste avec une boucle for"
      ],
      "metadata": {
        "id": "lLaH1t-GgTVz"
      },
      "id": "lLaH1t-GgTVz"
    },
    {
      "cell_type": "code",
      "source": [
        "# Liste des joueurs\n",
        "equipe = [\"Kolbe\", \"Serin\", \"Rebbadj\"]\n",
        "\n",
        "# Affichage des joueurs\n",
        "for joueur in equipe:\n",
        "    print(joueur)\n"
      ],
      "metadata": {
        "colab": {
          "base_uri": "https://localhost:8080/"
        },
        "id": "Frz991X7gUuM",
        "outputId": "5d5b9a5d-d72b-4fd9-b76f-dcf57b515d95"
      },
      "id": "Frz991X7gUuM",
      "execution_count": 85,
      "outputs": [
        {
          "output_type": "stream",
          "name": "stdout",
          "text": [
            "Kolbe\n",
            "Serin\n",
            "Rebbadj\n"
          ]
        }
      ]
    },
    {
      "cell_type": "markdown",
      "source": [
        "**Explication :**  \n",
        "- La boucle `for` parcourt chaque élément de la liste.\n",
        "\n",
        "- La variable `joueur` prend successivement la valeur de chaque élément."
      ],
      "metadata": {
        "id": "GddDkuDTgXhb"
      },
      "id": "GddDkuDTgXhb"
    },
    {
      "cell_type": "markdown",
      "source": [
        "Exemple 2 : Boucle avec une condition while"
      ],
      "metadata": {
        "id": "LnQfwM3zgYiX"
      },
      "id": "LnQfwM3zgYiX"
    },
    {
      "cell_type": "code",
      "source": [
        "# Compteur initial\n",
        "i = 0\n",
        "\n",
        "# Afficher les joueurs tant qu'il en reste\n",
        "while i < len(equipe):\n",
        "    print(f\"Joueur {i + 1} : {equipe[i]}\")\n",
        "    i += 1\n"
      ],
      "metadata": {
        "colab": {
          "base_uri": "https://localhost:8080/"
        },
        "id": "YVNqOYpEgaqT",
        "outputId": "cf906442-60e5-4537-b618-eaa3750a31d9"
      },
      "id": "YVNqOYpEgaqT",
      "execution_count": 86,
      "outputs": [
        {
          "output_type": "stream",
          "name": "stdout",
          "text": [
            "Joueur 1 : Kolbe\n",
            "Joueur 2 : Serin\n",
            "Joueur 3 : Rebbadj\n"
          ]
        }
      ]
    },
    {
      "cell_type": "markdown",
      "source": [
        "**Explication :**  \n",
        "- La boucle `while` continue tant que la condition `i < len(equipe)` est vraie.\n",
        "\n",
        "- L'incrémentation `i += 1` est nécessaire pour éviter une boucle infinie."
      ],
      "metadata": {
        "id": "JVKfboQcgely"
      },
      "id": "JVKfboQcgely"
    },
    {
      "cell_type": "markdown",
      "source": [
        "Exemple 3 : Utilisation de break et continue"
      ],
      "metadata": {
        "id": "fbQSTWaBghIR"
      },
      "id": "fbQSTWaBghIR"
    },
    {
      "cell_type": "code",
      "source": [
        "# Parcourir les scores\n",
        "scores = [15, 20, 10, 25, 30]\n",
        "\n",
        "for score in scores:\n",
        "    if score < 15:\n",
        "        continue  # Passer les scores inférieurs à 15\n",
        "    if score > 25:\n",
        "        break  # Arrêter la boucle si le score dépasse 25\n",
        "    print(f\"Score accepté : {score}\")\n"
      ],
      "metadata": {
        "colab": {
          "base_uri": "https://localhost:8080/"
        },
        "id": "tS02lcOcgiRS",
        "outputId": "e5eba8b0-186f-40df-d5a7-d2766872c545"
      },
      "id": "tS02lcOcgiRS",
      "execution_count": 87,
      "outputs": [
        {
          "output_type": "stream",
          "name": "stdout",
          "text": [
            "Score accepté : 15\n",
            "Score accepté : 20\n",
            "Score accepté : 25\n"
          ]
        }
      ]
    },
    {
      "cell_type": "markdown",
      "source": [
        "**Explication :**  \n",
        "- `continue` saute directement à l’itération suivante.\n",
        "\n",
        "- `break` met fin à la boucle.\n"
      ],
      "metadata": {
        "id": "_a112oZsgkK-"
      },
      "id": "_a112oZsgkK-"
    },
    {
      "cell_type": "markdown",
      "source": [
        "#### Exercice 1 : Afficher les multiples de 3\n",
        "\n",
        "Demandez aux étudiants d’afficher les multiples de 3 entre 1 et 30.\n",
        "**Consigne :**  \n",
        "1. Utilisez une boucle `for`.\n",
        "\n",
        "2. Vérifiez si un nombre est un multiple de 3.\n",
        "\n",
        "3. Affichez uniquement les multiples."
      ],
      "metadata": {
        "id": "UtAQrrORgmqU"
      },
      "id": "UtAQrrORgmqU"
    },
    {
      "cell_type": "code",
      "source": [
        "# Afficher les multiples de 3\n",
        "for i in range(1, 31):\n",
        "    if i % 3 == 0:\n",
        "        print(i)\n"
      ],
      "metadata": {
        "colab": {
          "base_uri": "https://localhost:8080/"
        },
        "id": "tzh0f_a8gnPX",
        "outputId": "b2045b54-4432-436f-ccad-fbbaecc797f2"
      },
      "id": "tzh0f_a8gnPX",
      "execution_count": 88,
      "outputs": [
        {
          "output_type": "stream",
          "name": "stdout",
          "text": [
            "3\n",
            "6\n",
            "9\n",
            "12\n",
            "15\n",
            "18\n",
            "21\n",
            "24\n",
            "27\n",
            "30\n"
          ]
        }
      ]
    },
    {
      "cell_type": "markdown",
      "source": [
        "**Explication :**  \n",
        "- `range(1, 31)` génère les nombres de 1 à 30.\n",
        "\n",
        "- `i % 3 == 0` vérifie si le nombre est divisible par 3."
      ],
      "metadata": {
        "id": "1Ob_d9Ycgp88"
      },
      "id": "1Ob_d9Ycgp88"
    },
    {
      "cell_type": "markdown",
      "source": [
        "#### Exercice 2 : Trouver le premier joueur rapide\n",
        "\n",
        "Demandez aux étudiants de parcourir une liste de vitesses et d’afficher la première vitesse supérieure à 9 m/s, puis d’arrêter la boucle.\n",
        "**Consigne :**\n",
        "1. Fournir une liste de vitesses.\n",
        "\n",
        "2. Utilisez une boucle pour parcourir la liste.\n",
        "\n",
        "3. Arrêtez la boucle après avoir trouvé la première vitesse > 9."
      ],
      "metadata": {
        "id": "l2dCgV4sgsjW"
      },
      "id": "l2dCgV4sgsjW"
    },
    {
      "cell_type": "code",
      "source": [
        "# Liste des vitesses\n",
        "vitesses = [8.5, 7.8, 9.3, 10.2, 8.9]\n",
        "\n",
        "# Trouver la première vitesse > 9\n",
        "for vitesse in vitesses:\n",
        "    if vitesse > 9:\n",
        "        print(f\"Première vitesse rapide : {vitesse}\")\n",
        "        break\n"
      ],
      "metadata": {
        "colab": {
          "base_uri": "https://localhost:8080/"
        },
        "id": "QRnmzJDPgu6n",
        "outputId": "2d753db2-46db-43fe-91bb-6fd423f6ddb4"
      },
      "id": "QRnmzJDPgu6n",
      "execution_count": 89,
      "outputs": [
        {
          "output_type": "stream",
          "name": "stdout",
          "text": [
            "Première vitesse rapide : 9.3\n"
          ]
        }
      ]
    },
    {
      "cell_type": "markdown",
      "id": "6d8c08ab",
      "metadata": {
        "id": "6d8c08ab"
      },
      "source": [
        "# Questions avec solutions détaillées"
      ]
    },
    {
      "cell_type": "markdown",
      "source": [
        "Cette section propose des questions avec des solutions pour mettre en pratique les concepts abordés."
      ],
      "metadata": {
        "id": "-KFEDUzsg1Jy"
      },
      "id": "-KFEDUzsg1Jy"
    },
    {
      "cell_type": "markdown",
      "source": [
        "Question 1 : Créer une liste des vitesses de 5 joueurs et afficher les vitesses supérieures à 8 m/s."
      ],
      "metadata": {
        "id": "B2CZJXWUg19M"
      },
      "id": "B2CZJXWUg19M"
    },
    {
      "cell_type": "code",
      "source": [
        "# Liste des vitesses\n",
        "vitesses = [7.5, 8.2, 9.3, 7.8, 8.6]\n",
        "\n",
        "# Filtrer les vitesses supérieures à 8\n",
        "for vitesse in vitesses:\n",
        "    if vitesse > 8.0:\n",
        "        print(vitesse)\n"
      ],
      "metadata": {
        "colab": {
          "base_uri": "https://localhost:8080/"
        },
        "id": "cmnSMlN9g3xI",
        "outputId": "9c6d18ef-8c17-4cb4-fbeb-fc49f246d32b"
      },
      "id": "cmnSMlN9g3xI",
      "execution_count": 90,
      "outputs": [
        {
          "output_type": "stream",
          "name": "stdout",
          "text": [
            "8.2\n",
            "9.3\n",
            "8.6\n"
          ]
        }
      ]
    },
    {
      "cell_type": "markdown",
      "source": [
        "**Explication :**  \n",
        "- Une boucle `for` parcourt chaque vitesse.\n",
        "\n",
        "- La condition `if vitesse > 8.0` filtre les vitesses."
      ],
      "metadata": {
        "id": "7TrCgh3Kg66V"
      },
      "id": "7TrCgh3Kg66V"
    },
    {
      "cell_type": "markdown",
      "source": [
        "Question 2 : Écrire une fonction pour calculer l'IMC à partir du poids et de la taille."
      ],
      "metadata": {
        "id": "oW1sn-zHg8PN"
      },
      "id": "oW1sn-zHg8PN"
    },
    {
      "cell_type": "code",
      "source": [
        "# Fonction pour calculer l'IMC\n",
        "def calculer_imc(poids, taille):\n",
        "    return poids / (taille ** 2)\n",
        "\n",
        "# Exemple d'utilisation\n",
        "poids = 70\n",
        "taille = 1.75\n",
        "imc = calculer_imc(poids, taille)\n",
        "print(f\"IMC : {imc:.2f}\")\n"
      ],
      "metadata": {
        "colab": {
          "base_uri": "https://localhost:8080/"
        },
        "id": "ccv9U2-Lg8_y",
        "outputId": "dd2fcfdc-693e-4224-f1af-1eb27132539e"
      },
      "id": "ccv9U2-Lg8_y",
      "execution_count": 91,
      "outputs": [
        {
          "output_type": "stream",
          "name": "stdout",
          "text": [
            "IMC : 22.86\n"
          ]
        }
      ]
    },
    {
      "cell_type": "markdown",
      "source": [
        "**Explication :**  \n",
        "- La fonction prend deux paramètres : `poids` et `taille`.\n",
        "\n",
        "- La formule de l’IMC est appliquée, et le résultat est retourné."
      ],
      "metadata": {
        "id": "DpoSzE1kg-9w"
      },
      "id": "DpoSzE1kg-9w"
    },
    {
      "cell_type": "markdown",
      "source": [
        "Question 3 : Trouver tous les nombres dans la chaîne \"Score 18-15\"."
      ],
      "metadata": {
        "id": "SOYOzazohAbZ"
      },
      "id": "SOYOzazohAbZ"
    },
    {
      "cell_type": "code",
      "source": [
        "import re\n",
        "\n",
        "# Chaîne donnée\n",
        "texte = \"Score 18-15\"\n",
        "\n",
        "# Motif pour détecter les nombres\n",
        "motif = r\"\\d+\"\n",
        "\n",
        "# Trouver les nombres\n",
        "nombres = re.findall(motif, texte)\n",
        "print(f\"Nombres : {nombres}\")\n"
      ],
      "metadata": {
        "colab": {
          "base_uri": "https://localhost:8080/"
        },
        "id": "8-9rGw_XhBHm",
        "outputId": "3cb79666-026d-4639-d99a-b95e3ca72410"
      },
      "id": "8-9rGw_XhBHm",
      "execution_count": 92,
      "outputs": [
        {
          "output_type": "stream",
          "name": "stdout",
          "text": [
            "Nombres : ['18', '15']\n"
          ]
        }
      ]
    },
    {
      "cell_type": "markdown",
      "source": [
        "**Explication :**  \n",
        "- `\\d+` correspond à une séquence de chiffres.\n",
        "\n",
        "- `re.findall()` extrait toutes les correspondances dans une liste.\n"
      ],
      "metadata": {
        "id": "DQrjbTtkhC0l"
      },
      "id": "DQrjbTtkhC0l"
    },
    {
      "cell_type": "markdown",
      "source": [
        "Question 4 : Créer une compréhension de liste pour doubler les scores de [10, 15, 20]."
      ],
      "metadata": {
        "id": "DEzW0rilhEO1"
      },
      "id": "DEzW0rilhEO1"
    },
    {
      "cell_type": "code",
      "source": [
        "# Liste des scores\n",
        "scores = [10, 15, 20]\n",
        "\n",
        "# Doubler les scores\n",
        "doubles = [score * 2 for score in scores]\n",
        "print(f\"Scores doublés : {doubles}\")\n"
      ],
      "metadata": {
        "colab": {
          "base_uri": "https://localhost:8080/"
        },
        "id": "zeuJkzkZhFUS",
        "outputId": "6bd56d2e-77b2-4600-8122-6926948f5519"
      },
      "id": "zeuJkzkZhFUS",
      "execution_count": 93,
      "outputs": [
        {
          "output_type": "stream",
          "name": "stdout",
          "text": [
            "Scores doublés : [20, 30, 40]\n"
          ]
        }
      ]
    },
    {
      "cell_type": "markdown",
      "source": [
        "**Explication :**\n",
        "- Une compréhension de liste est utilisée pour multiplier chaque score par 2."
      ],
      "metadata": {
        "id": "bEcn_tRXhHVW"
      },
      "id": "bEcn_tRXhHVW"
    },
    {
      "cell_type": "markdown",
      "source": [
        "Question 5 : Valider un format de score \"12-10\" dans une chaîne."
      ],
      "metadata": {
        "id": "uEf5XrYLhIwj"
      },
      "id": "uEf5XrYLhIwj"
    },
    {
      "cell_type": "code",
      "source": [
        "import re\n",
        "\n",
        "# Chaîne donnée\n",
        "texte = \"Le score est 12-10.\"\n",
        "\n",
        "# Motif pour détecter un score\n",
        "motif = r\"\\d{1,2}-\\d{1,2}\"\n",
        "\n",
        "# Vérifier le format\n",
        "if re.search(motif, texte):\n",
        "    print(\"Score valide trouvé.\")\n",
        "else:\n",
        "    print(\"Aucun score valide trouvé.\")\n"
      ],
      "metadata": {
        "colab": {
          "base_uri": "https://localhost:8080/"
        },
        "id": "gJyltcDRhKML",
        "outputId": "d420136f-6333-4cf9-f0c8-cf96529468e0"
      },
      "id": "gJyltcDRhKML",
      "execution_count": 94,
      "outputs": [
        {
          "output_type": "stream",
          "name": "stdout",
          "text": [
            "Score valide trouvé.\n"
          ]
        }
      ]
    },
    {
      "cell_type": "markdown",
      "source": [
        "**Explication :**  \n",
        "- `\\d{1,2}` correspond à un ou deux chiffres.\n",
        "\n",
        "- Le tiret `-` est utilisé littéralement."
      ],
      "metadata": {
        "id": "RGD5GbpxhMZu"
      },
      "id": "RGD5GbpxhMZu"
    },
    {
      "cell_type": "markdown",
      "source": [
        "Question 6 : Créer un dictionnaire pour stocker les statistiques d'un joueur."
      ],
      "metadata": {
        "id": "vGz7-31vhNp3"
      },
      "id": "vGz7-31vhNp3"
    },
    {
      "cell_type": "code",
      "source": [
        "# Dictionnaire des statistiques\n",
        "joueur = {\"nom\": \"Dupont\", \"essais\": 15, \"vitesse\": 9.3}\n",
        "print(f\"Statistiques du joueur : {joueur}\")\n"
      ],
      "metadata": {
        "colab": {
          "base_uri": "https://localhost:8080/"
        },
        "id": "RrHvCFtbhOeq",
        "outputId": "15391bcd-cbc4-4ba9-db27-d2a1d6eb47e7"
      },
      "id": "RrHvCFtbhOeq",
      "execution_count": 95,
      "outputs": [
        {
          "output_type": "stream",
          "name": "stdout",
          "text": [
            "Statistiques du joueur : {'nom': 'Dupont', 'essais': 15, 'vitesse': 9.3}\n"
          ]
        }
      ]
    },
    {
      "cell_type": "markdown",
      "source": [
        "**Explication :**\n",
        "- Les paires clé-valeur permettent de structurer les informations du joueur."
      ],
      "metadata": {
        "id": "_XXBWitshQil"
      },
      "id": "_XXBWitshQil"
    },
    {
      "cell_type": "markdown",
      "source": [
        "Question 7 : Afficher les indices et joueurs d’une équipe."
      ],
      "metadata": {
        "id": "WRK3bWkNhSXC"
      },
      "id": "WRK3bWkNhSXC"
    },
    {
      "cell_type": "code",
      "source": [
        "# Liste des joueurs\n",
        "equipe = [\"Kolbe\", \"Serin\", \"Rebbadj\"]\n",
        "\n",
        "# Afficher les joueurs avec leurs indices\n",
        "for i, joueur in enumerate(equipe, start=1):\n",
        "    print(f\"{i}. {joueur}\")\n"
      ],
      "metadata": {
        "colab": {
          "base_uri": "https://localhost:8080/"
        },
        "id": "MgtxkfeChTK0",
        "outputId": "c2736660-88bf-466f-eea0-77e71b476154"
      },
      "id": "MgtxkfeChTK0",
      "execution_count": 96,
      "outputs": [
        {
          "output_type": "stream",
          "name": "stdout",
          "text": [
            "1. Kolbe\n",
            "2. Serin\n",
            "3. Rebbadj\n"
          ]
        }
      ]
    },
    {
      "cell_type": "markdown",
      "source": [
        "**Explication :**  \n",
        "- `enumerate()` permet d’associer un index à chaque joueur."
      ],
      "metadata": {
        "id": "FIRC87L3hYUH"
      },
      "id": "FIRC87L3hYUH"
    },
    {
      "cell_type": "markdown",
      "id": "60088caa",
      "metadata": {
        "id": "60088caa"
      },
      "source": [
        "# Questions sans solutions"
      ]
    },
    {
      "cell_type": "markdown",
      "source": [
        "#### Question 1 : Créer une liste des vitesses de 5 joueurs et afficher uniquement celles supérieures à 9 m/s.\n",
        "**Consigne :**\n",
        "- Fournir une liste de vitesses.\n",
        "\n",
        "- Parcourir la liste et afficher uniquement les valeurs supérieures à 9.\n",
        "\n",
        "\n",
        "---\n",
        "\n",
        "\n",
        "#### Question 2 : Écrire une fonction pour convertir une vitesse de km/h en m/s.\n",
        "**Consigne :**\n",
        "- La fonction doit prendre une vitesse en km/h.\n",
        "\n",
        "- Retourner la vitesse en m/s avec la formule :\n",
        "$$\n",
        " v_{m/s} = \\frac{v_{km/h}}{3.6}\n",
        "$$\n",
        "\n",
        "\n",
        "---\n",
        "\n",
        "\n",
        "#### Question 3 : Créer une boucle pour afficher les scores des matchs d'une équipe.\n",
        "**Consigne :**\n",
        "- Fournir une liste contenant les scores.\n",
        "\n",
        "- Utiliser une boucle pour afficher chaque score.\n",
        "\n",
        "\n",
        "---\n",
        "\n",
        "\n",
        "#### Question 4 : Trouver tous les mots commençant par 'T' dans une chaîne.\n",
        "**Consigne :**\n",
        "- Fournir une chaîne de texte contenant plusieurs mots.\n",
        "\n",
        "- Extraire et afficher uniquement les mots qui commencent par la lettre 'T'.\n",
        "\n",
        "\n",
        "---\n",
        "\n",
        "\n",
        "#### Question 5 : Créer une compréhension de liste pour tripler les scores d'une liste.\n",
        "**Consigne :**\n",
        "- Fournir une liste de scores.\n",
        "\n",
        "- Créer une nouvelle liste contenant les scores triplés.\n",
        "\n",
        "\n",
        "---\n",
        "\n",
        "Question 6 : Valider le format de temps 'hh:mm' dans une chaîne.**Consigne :**\n",
        "- Fournir une chaîne contenant un format potentiel d’horaire.\n",
        "\n",
        "- Utiliser une expression régulière pour vérifier si le format 'hh:mm' est présent.\n",
        "\n",
        "\n",
        "---\n",
        "\n",
        "\n",
        "#### Question 7 : Créer un dictionnaire pour stocker les noms et scores des équipes.\n",
        "**Consigne :**\n",
        "- Créer un dictionnaire où les clés sont les noms d’équipes et les valeurs leurs scores respectifs.\n",
        "\n",
        "- Ajouter au moins trois équipes avec leurs scores.\n",
        "\n",
        "\n",
        "---\n",
        "\n",
        "\n",
        "#### Question 8 : Créer une table imbriquée pour les points cumulés de 3 équipes sur 3 matchs.\n",
        "**Consigne :**\n",
        "- Représenter les points cumulés sous forme de liste de listes.\n",
        "\n",
        "- Chaque sous-liste doit contenir les points pour une équipe sur 3 matchs.\n",
        "\n",
        "\n",
        "---\n",
        "\n",
        "\n",
        "#### Question 9 : Utiliser un ensemble pour trouver les scores communs entre deux matchs.\n",
        "**Consigne :**\n",
        "- Fournir deux ensembles de scores.\n",
        "\n",
        "- Utiliser une opération d’intersection pour identifier les scores communs.\n",
        "\n",
        "\n",
        "---\n",
        "\n",
        "Question 10 : Utiliser `enumerate` pour afficher les indices et éléments d'une liste.**Consigne :**\n",
        "- Fournir une liste.\n",
        "\n",
        "- Parcourir la liste et afficher chaque élément avec son indice."
      ],
      "metadata": {
        "id": "hfVgo9cOhW5_"
      },
      "id": "hfVgo9cOhW5_"
    },
    {
      "cell_type": "code",
      "source": [],
      "metadata": {
        "id": "KUFH-XRZhhSI"
      },
      "id": "KUFH-XRZhhSI",
      "execution_count": 96,
      "outputs": []
    }
  ],
  "metadata": {
    "colab": {
      "provenance": [],
      "include_colab_link": true
    },
    "language_info": {
      "name": "python"
    },
    "kernelspec": {
      "name": "python3",
      "display_name": "Python 3"
    }
  },
  "nbformat": 4,
  "nbformat_minor": 5
}