{
  "nbformat": 4,
  "nbformat_minor": 0,
  "metadata": {
    "colab": {
      "provenance": [],
      "authorship_tag": "ABX9TyPBfahB7CyeAXrdInXZ9g8v",
      "include_colab_link": true
    },
    "kernelspec": {
      "name": "python3",
      "display_name": "Python 3"
    },
    "language_info": {
      "name": "python"
    }
  },
  "cells": [
    {
      "cell_type": "markdown",
      "metadata": {
        "id": "view-in-github",
        "colab_type": "text"
      },
      "source": [
        "<a href=\"https://colab.research.google.com/github/FAMILIAR-project/SEAI4Sport2425/blob/main/LLM_repeat.ipynb\" target=\"_parent\"><img src=\"https://colab.research.google.com/assets/colab-badge.svg\" alt=\"Open In Colab\"/></a>"
      ]
    },
    {
      "cell_type": "code",
      "execution_count": 12,
      "metadata": {
        "colab": {
          "base_uri": "https://localhost:8080/"
        },
        "id": "QL_VfnbybK_r",
        "outputId": "3cf225be-0a4f-4ce6-c2cd-077e03024d62"
      },
      "outputs": [
        {
          "output_type": "stream",
          "name": "stdout",
          "text": [
            "Response:\n",
            "{'id': 'chatcmpl-6ff5b728-8973-45c4-8de6-e55f3117d84e', 'object': 'chat.completion', 'created': 1733899592, 'model': 'llama3-8b-8192', 'choices': [{'index': 0, 'message': {'role': 'assistant', 'content': 'Non'}, 'logprobs': None, 'finish_reason': 'stop'}], 'usage': {'queue_time': 0.045371655, 'prompt_tokens': 34, 'prompt_time': 0.006207904, 'completion_tokens': 2, 'completion_time': 0.001666667, 'total_tokens': 36, 'total_time': 0.007874571}, 'system_fingerprint': 'fp_a97cfe35ae', 'x_groq': {'id': 'req_01jet7g88kfyns386xc7ww3a6y'}}\n",
            "Response content:\n",
            "Assistant's response: Non\n"
          ]
        }
      ],
      "source": [
        "import requests\n",
        "import os\n",
        "\n",
        "import time\n",
        "\n",
        "\n",
        "# Set the API key and endpoint\n",
        "# Register and go to https://console.groq.com/keys\n",
        "api_key = \"\" # https://console.groq.com/keys\n",
        "url = \"https://api.groq.com/openai/v1/chat/completions\"\n",
        "\n",
        "# Define the payload\n",
        "payload = {\n",
        "    \"model\": \"llama3-8b-8192\",\n",
        "    \"messages\": [\n",
        "        {\n",
        "            \"role\": \"user\",\n",
        "            \"content\": \"Faut-il nécessairement manger avant d'aller courir le matin ? Répond uniquement oui ou non\"\n",
        "        }\n",
        "    ]\n",
        "}\n",
        "\n",
        "# Define the headers\n",
        "headers = {\n",
        "    \"Content-Type\": \"application/json\",\n",
        "    \"Authorization\": f\"Bearer {api_key}\"\n",
        "}\n",
        "\n",
        "# Send the POST request\n",
        "response = requests.post(url, json=payload, headers=headers)\n",
        "\n",
        "# Check for a successful response\n",
        "if response.status_code == 200:\n",
        "    print(\"Response:\")\n",
        "    print(response.json())\n",
        "    print(\"Response content:\")\n",
        "    answer = response.json()['choices'][0]['message']['content']\n",
        "    print(\"Assistant's response:\", answer)\n",
        "else:\n",
        "    print(f\"Error: {response.status_code}\")\n",
        "    print(response.text)\n",
        "\n",
        "\n"
      ]
    },
    {
      "cell_type": "code",
      "source": [
        "responses = []\n",
        "for i in range(20):\n",
        "    try:\n",
        "        # Send the POST request\n",
        "        response = requests.post(url, json=payload, headers=headers)\n",
        "        if response.status_code == 200:\n",
        "            data = response.json()\n",
        "            responses.append(data['choices'][0]['message']['content'])\n",
        "        else:\n",
        "            responses.append(f\"Error: {response.status_code}\")\n",
        "    except Exception as e:\n",
        "        responses.append(f\"Request failed: {str(e)}\")\n",
        "    time.sleep(1)  # Wait 1 second before the next request\n",
        "\n",
        "print(responses)"
      ],
      "metadata": {
        "colab": {
          "base_uri": "https://localhost:8080/"
        },
        "id": "G8trROJodkUG",
        "outputId": "1050484f-acb3-4d78-ede9-4508eea56ea7"
      },
      "execution_count": 13,
      "outputs": [
        {
          "output_type": "stream",
          "name": "stdout",
          "text": [
            "['Non', 'Oui', 'Non', 'Oui', 'Non', 'Non', 'Non', 'Non', 'Non', 'Oui', 'Non', 'Non', 'Oui', 'Non', 'Non', 'Non', 'Non', 'Non', 'Non', 'Non']\n"
          ]
        }
      ]
    },
    {
      "cell_type": "markdown",
      "source": [
        "max_tokens : Détermine la longueur maximale de la réponse.\n",
        "temperature : Contrôle la créativité des réponses (0 pour des réponses déterministes, 1 pour des réponses plus créatives).\n",
        "top_p : Ajuste le niveau de variation dans le choix des mots."
      ],
      "metadata": {
        "id": "7fGMcPIwbSFj"
      }
    }
  ]
}